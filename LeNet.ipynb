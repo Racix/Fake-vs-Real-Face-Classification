{
  "nbformat": 4,
  "nbformat_minor": 0,
  "metadata": {
    "colab": {
      "provenance": []
    },
    "kernelspec": {
      "name": "python3",
      "display_name": "Python 3"
    },
    "language_info": {
      "name": "python"
    }
  },
  "cells": [
    {
      "cell_type": "markdown",
      "source": [
        "#Miniproject D7041E, Applied Artificial Intelligence"
      ],
      "metadata": {
        "id": "ZlqOHdtu1tp-"
      }
    },
    {
      "cell_type": "markdown",
      "source": [
        "##prerequisite \n",
        "In the following steps we load in the dataset from kaggle and run some tests to make sure it works correctly"
      ],
      "metadata": {
        "id": "5ay3evpx2PST"
      }
    },
    {
      "cell_type": "code",
      "source": [
        "! pip install -q kaggle"
      ],
      "metadata": {
        "id": "rifBSGhFgoZI"
      },
      "execution_count": null,
      "outputs": []
    },
    {
      "cell_type": "code",
      "source": [
        "from google.colab import files\n",
        "files.upload()"
      ],
      "metadata": {
        "id": "xxZGZxT0grP3"
      },
      "execution_count": null,
      "outputs": []
    },
    {
      "cell_type": "code",
      "source": [
        "! mkdir ~/.kaggle\n",
        "! cp kaggle.json ~/.kaggle/"
      ],
      "metadata": {
        "id": "QkFuEGV1gth4"
      },
      "execution_count": null,
      "outputs": []
    },
    {
      "cell_type": "code",
      "source": [
        "! chmod 600 ~/.kaggle/kaggle.json"
      ],
      "metadata": {
        "id": "eiO-MbR9g0RH"
      },
      "execution_count": null,
      "outputs": []
    },
    {
      "cell_type": "code",
      "source": [
        "! kaggle datasets list"
      ],
      "metadata": {
        "colab": {
          "base_uri": "https://localhost:8080/"
        },
        "id": "vOufm0C0g1B7",
        "outputId": "bc737ff0-dc8e-4c17-9c26-b5ea11374aee"
      },
      "execution_count": null,
      "outputs": [
        {
          "output_type": "stream",
          "name": "stdout",
          "text": [
            "ref                                                             title                                           size  lastUpdated          downloadCount  voteCount  usabilityRating  \n",
            "--------------------------------------------------------------  ---------------------------------------------  -----  -------------------  -------------  ---------  ---------------  \n",
            "meirnizri/covid19-dataset                                       COVID-19 Dataset                                 5MB  2022-11-13 15:47:17          14434        413  1.0              \n",
            "thedevastator/analyzing-credit-card-spending-habits-in-india    Credit Card Spending Habits in India           319KB  2022-12-14 07:30:37           1270         49  1.0              \n",
            "michals22/coffee-dataset                                        Coffee dataset                                  24KB  2022-12-15 20:02:12           3425         77  1.0              \n",
            "thedevastator/unlock-profits-with-e-commerce-sales-data         E-Commerce Sales Dataset                         6MB  2022-12-03 09:27:17           2667         65  1.0              \n",
            "thedevastator/jobs-dataset-from-glassdoor                       Salary Prediction                                3MB  2022-11-16 13:52:31           8161        178  1.0              \n",
            "die9origephit/fifa-world-cup-2022-complete-dataset              Fifa World Cup 2022: Complete Dataset            7KB  2022-12-18 22:51:11           2888        107  1.0              \n",
            "mattop/highest-grossing-mobile-games                            Highest Grossing Mobile Games                    3KB  2022-12-19 15:20:22            674         30  1.0              \n",
            "thedevastator/uncover-global-trends-in-mental-health-disorder   Global Trends in Mental Health Disorder          1MB  2022-12-14 05:30:38            967         31  1.0              \n",
            "rajkumarpandey02/fifa-world-cup-attendance-19302022             FIFA World Cup Attendance 1930-2022              5KB  2022-12-19 10:04:26            926         25  1.0              \n",
            "devrimtuner/number-of-road-motor-vehicles-turkey                Number of road motor vehicles 🇹🇷                 3KB  2022-12-25 13:04:17            278         23  0.9411765        \n",
            "thedevastator/revealing-insights-from-youtube-video-and-channe  YouTube Videos and Channels Metadata            82MB  2022-12-14 02:48:24            667         34  1.0              \n",
            "thedevastator/uncovering-insights-to-college-majors-and-their   College Majors and their Graduates              39KB  2022-12-06 16:06:52           1404         41  1.0              \n",
            "mvieira101/global-cost-of-living                                Global Cost of Living                            1MB  2022-12-03 16:37:53           3868         79  0.9705882        \n",
            "anashamoutni/students-employability-dataset                     Students' Employability Dataset - Philippines   97KB  2022-12-18 15:51:39            817         30  0.88235295       \n",
            "swaptr/fifa-world-cup-2022-statistics                           FIFA World Cup 2022 Team Data                   15KB  2022-12-19 00:29:15           2861         64  0.9705882        \n",
            "thedevastator/the-ultimate-netflix-tv-shows-and-movies-dataset  Netflix TV Shows and Movies (2022 Updated)       2MB  2022-11-27 20:41:41           2822         53  1.0              \n",
            "whenamancodes/predict-diabities                                 Predict Diabetes                                 9KB  2022-11-09 12:18:49           8496        134  1.0              \n",
            "kulturehire/understanding-career-aspirations-of-genz            Understanding Career Aspirations of GenZ         8KB  2022-12-21 13:44:32            380         25  0.9117647        \n",
            "thedevastator/uncovering-wage-disparities-in-pennsylvania-s-hi  Higher Education Wages                         223KB  2022-12-04 15:42:36           1414         46  1.0              \n",
            "laibaanwer/superstore-sales-dataset                             SuperStore Sales Dataset                         2MB  2022-12-07 08:53:32           1762         40  1.0              \n"
          ]
        }
      ]
    },
    {
      "cell_type": "code",
      "source": [
        "!kaggle datasets download -d xhlulu/140k-real-and-fake-faces"
      ],
      "metadata": {
        "colab": {
          "base_uri": "https://localhost:8080/"
        },
        "id": "bsYAtNRBg4an",
        "outputId": "c874085c-bb2a-4863-ba19-244d5d468bca"
      },
      "execution_count": null,
      "outputs": [
        {
          "output_type": "stream",
          "name": "stdout",
          "text": [
            "Downloading 140k-real-and-fake-faces.zip to /content\n",
            "100% 3.74G/3.75G [00:24<00:00, 187MB/s]\n",
            "100% 3.75G/3.75G [00:24<00:00, 164MB/s]\n"
          ]
        }
      ]
    },
    {
      "cell_type": "code",
      "source": [
        "!unzip 140k-real-and-fake-faces.zip"
      ],
      "metadata": {
        "id": "wbhtYBFakJeM"
      },
      "execution_count": null,
      "outputs": []
    },
    {
      "cell_type": "markdown",
      "source": [
        "Import all necessary libraries"
      ],
      "metadata": {
        "id": "bq_KFN2e3ama"
      }
    },
    {
      "cell_type": "code",
      "source": [
        "import numpy as np\n",
        "import pandas as pd\n",
        "import matplotlib.pyplot as plt\n",
        "from tensorflow.keras.preprocessing.image import ImageDataGenerator, img_to_array\n",
        "from tensorflow.keras.preprocessing import image_dataset_from_directory\n",
        "from tensorflow.keras.applications import InceptionResNetV2\n",
        "from tensorflow.keras.models import Sequential\n",
        "from tensorflow.keras.layers import Dense, Flatten, Conv2D, AveragePooling2D, Dropout\n",
        "from tensorflow.keras.optimizers import Adam, SGD\n",
        "from tensorflow.keras import layers, models, losses\n",
        "from sklearn.metrics import classification_report, confusion_matrix, ConfusionMatrixDisplay, roc_auc_score, average_precision_score"
      ],
      "metadata": {
        "id": "mU2hmbuhkppJ"
      },
      "execution_count": null,
      "outputs": []
    },
    {
      "cell_type": "code",
      "source": [
        "df_train = pd.read_csv('train.csv',index_col=0)\n",
        "df_val = pd.read_csv('valid.csv',index_col=0)\n",
        "df_test = pd.read_csv('test.csv',index_col=0)"
      ],
      "metadata": {
        "id": "j8MSPX_akt3t"
      },
      "execution_count": null,
      "outputs": []
    },
    {
      "cell_type": "code",
      "source": [
        "path = 'real_vs_fake/real-vs-fake/'\n",
        "imageGen = ImageDataGenerator(rescale=1./255., \n",
        "                              featurewise_center=True, \n",
        "                              featurewise_std_normalization=True)"
      ],
      "metadata": {
        "id": "dEqeUbuhlNc8"
      },
      "execution_count": null,
      "outputs": []
    },
    {
      "cell_type": "markdown",
      "source": [
        "In the following cell we print out some of images that it has to make sure that we import the data correctly"
      ],
      "metadata": {
        "id": "UolWPj-w3oA0"
      }
    },
    {
      "cell_type": "code",
      "source": [
        "for i in range(9):\n",
        "    random = np.random.randint(1,len(df_train['path'].values))\n",
        "    plt.subplot(3,3,i+1)\n",
        "    plt.imshow(plt.imread(path + df_train['path'].values[random]))\n",
        "    plt.title(df_train['label_str'].values[random], size = 10) \n",
        "    plt.xticks([])\n",
        "    plt.yticks([])\n",
        "    \n",
        "plt.show()"
      ],
      "metadata": {
        "colab": {
          "base_uri": "https://localhost:8080/",
          "height": 266
        },
        "id": "A0NpW2hFlR2r",
        "outputId": "1928bc3f-45ea-42c5-ab4c-fbdd23a10e31"
      },
      "execution_count": null,
      "outputs": [
        {
          "output_type": "display_data",
          "data": {
            "text/plain": [
              "<Figure size 432x288 with 9 Axes>"
            ],
            "image/png": "[encoded data removed]"
          },
          "metadata": {}
        }
      ]
    },
    {
      "cell_type": "markdown",
      "source": [
        "Load in the images in to a ImageDataGenerator from a directory where it separates the folders in to separate classes. In this case it woud be real and fake but we desided to make binary separation (0 and 1).\n",
        "\n",
        "As the images in theis dataset har of size 256x256 we resize them to 32x32 to send them in to our model and we also specify the batch size here."
      ],
      "metadata": {
        "id": "buDqLo4O4BgM"
      }
    },
    {
      "cell_type": "code",
      "source": [
        "trainGen = imageGen.flow_from_directory(\n",
        "    path + 'train/',\n",
        "    target_size=(32, 32),\n",
        "    batch_size=96,\n",
        "    color_mode='grayscale',\n",
        "    class_mode='binary'\n",
        ")\n",
        "testGen = imageGen.flow_from_directory(\n",
        "    path + 'test/',\n",
        "    target_size=(32, 32),\n",
        "    batch_size=96,\n",
        "    color_mode='grayscale',\n",
        "    class_mode='binary',\n",
        "    shuffle = False\n",
        ")\n",
        "validGen = imageGen.flow_from_directory(\n",
        "    path + 'valid/',\n",
        "    target_size=(32, 32),\n",
        "    batch_size=96,\n",
        "    color_mode='grayscale',\n",
        "    class_mode='binary'\n",
        ")"
      ],
      "metadata": {
        "colab": {
          "base_uri": "https://localhost:8080/"
        },
        "id": "mzzI9SiylUqB",
        "outputId": "13844428-0465-48d5-d8f0-88aa13ca1adc"
      },
      "execution_count": null,
      "outputs": [
        {
          "output_type": "stream",
          "name": "stdout",
          "text": [
            "Found 100000 images belonging to 2 classes.\n",
            "Found 20000 images belonging to 2 classes.\n",
            "Found 20000 images belonging to 2 classes.\n"
          ]
        }
      ]
    },
    {
      "cell_type": "markdown",
      "source": [
        "In the below we build our model, in this case LeNet. LeNet is one of the first CNN models and were used to recognize the handwritten numbers, it has 7 layers  were three of are convolutional layers, two average-pooling layers and two fully connected layers.\n",
        "\n",
        "**Configuration:**\n",
        "> Activation function: tanh, sigmoid\n",
        "\n",
        "> Cost function: crossentropy\n",
        "\n",
        "> Optimization function: Adam"
      ],
      "metadata": {
        "id": "ydoPIbqr6E0z"
      }
    },
    {
      "cell_type": "code",
      "source": [
        "class LeNet(Sequential):\n",
        "    def __init__(self, input_shape, nb_classes, opt='adam'):\n",
        "        super().__init__()\n",
        "\n",
        "        self.add(Conv2D(6, kernel_size=(5, 5), strides=(1, 1), activation='tanh', input_shape=input_shape, padding=\"same\"))\n",
        "        self.add(AveragePooling2D(pool_size=(2, 2), strides=(2, 2), padding='valid'))\n",
        "        self.add(Conv2D(16, kernel_size=(5, 5), strides=(1, 1), activation='tanh', padding='valid'))\n",
        "        self.add(AveragePooling2D(pool_size=(2, 2), strides=(2, 2), padding='valid'))\n",
        "        self.add(Flatten())\n",
        "        self.add(Dense(120, activation='tanh'))\n",
        "        self.add(Dense(84, activation='tanh'))\n",
        "        self.add(Dense(nb_classes, activation='sigmoid'))\n",
        "\n",
        "        self.compile(optimizer=opt,\n",
        "                    loss='binary_crossentropy',\n",
        "                    metrics=['accuracy'])\n",
        "\n",
        "model = LeNet((32,32,1), 1)\n",
        "model.summary()"
      ],
      "metadata": {
        "colab": {
          "base_uri": "https://localhost:8080/"
        },
        "id": "tFkh10AJlXiU",
        "outputId": "1e07bc8a-ff94-45d6-e316-4cedc9402f6c"
      },
      "execution_count": null,
      "outputs": [
        {
          "output_type": "stream",
          "name": "stdout",
          "text": [
            "Model: \"le_net_2\"\n",
            "_________________________________________________________________\n",
            " Layer (type)                Output Shape              Param #   \n",
            "=================================================================\n",
            " conv2d_4 (Conv2D)           (None, 32, 32, 6)         156       \n",
            "                                                                 \n",
            " average_pooling2d_4 (Averag  (None, 16, 16, 6)        0         \n",
            " ePooling2D)                                                     \n",
            "                                                                 \n",
            " conv2d_5 (Conv2D)           (None, 12, 12, 16)        2416      \n",
            "                                                                 \n",
            " average_pooling2d_5 (Averag  (None, 6, 6, 16)         0         \n",
            " ePooling2D)                                                     \n",
            "                                                                 \n",
            " flatten_2 (Flatten)         (None, 576)               0         \n",
            "                                                                 \n",
            " dense_6 (Dense)             (None, 120)               69240     \n",
            "                                                                 \n",
            " dense_7 (Dense)             (None, 84)                10164     \n",
            "                                                                 \n",
            " dense_8 (Dense)             (None, 1)                 85        \n",
            "                                                                 \n",
            "=================================================================\n",
            "Total params: 82,061\n",
            "Trainable params: 82,061\n",
            "Non-trainable params: 0\n",
            "_________________________________________________________________\n"
          ]
        }
      ]
    },
    {
      "cell_type": "markdown",
      "source": [
        "##First try"
      ],
      "metadata": {
        "id": "TGWskrRcNy4v"
      }
    },
    {
      "cell_type": "markdown",
      "source": [
        "###Model training\n",
        "Here we train the above created model with our training data and we do it by running the training backpropagate and run again to improve the results, we do so several times (epoch) in this case we train it 40 times over. \n",
        "\n",
        "After every iteration the accuracy on traning and validation data are calculated."
      ],
      "metadata": {
        "id": "nVn-71d0DDQd"
      }
    },
    {
      "cell_type": "code",
      "source": [
        "history = model.fit_generator(\n",
        "    trainGen,\n",
        "    steps_per_epoch = (100000//96),\n",
        "    validation_data = validGen,\n",
        "    validation_steps = (20000//96),\n",
        "    epochs = 40\n",
        ")"
      ],
      "metadata": {
        "colab": {
          "base_uri": "https://localhost:8080/"
        },
        "id": "ZX_DGvUnlbME",
        "outputId": "a8bd3aea-2a4a-4dc3-ed60-73d98eaa6ab7"
      },
      "execution_count": null,
      "outputs": [
        {
          "output_type": "stream",
          "name": "stderr",
          "text": [
            "<ipython-input-28-16e40f135953>:1: UserWarning: `Model.fit_generator` is deprecated and will be removed in a future version. Please use `Model.fit`, which supports generators.\n",
            "  history = model.fit_generator(\n"
          ]
        },
        {
          "output_type": "stream",
          "name": "stdout",
          "text": [
            "Epoch 1/40\n",
            "1041/1041 [==============================] - 364s 349ms/step - loss: 0.6151 - accuracy: 0.6605 - val_loss: 0.6008 - val_accuracy: 0.6751\n",
            "Epoch 2/40\n",
            "1041/1041 [==============================] - 286s 275ms/step - loss: 0.5941 - accuracy: 0.6825 - val_loss: 0.5889 - val_accuracy: 0.6868\n",
            "Epoch 3/40\n",
            "1041/1041 [==============================] - 283s 272ms/step - loss: 0.5849 - accuracy: 0.6915 - val_loss: 0.5866 - val_accuracy: 0.6906\n",
            "Epoch 4/40\n",
            "1041/1041 [==============================] - 282s 271ms/step - loss: 0.5795 - accuracy: 0.6956 - val_loss: 0.5831 - val_accuracy: 0.6938\n",
            "Epoch 5/40\n",
            "1041/1041 [==============================] - 313s 300ms/step - loss: 0.5755 - accuracy: 0.6992 - val_loss: 0.5823 - val_accuracy: 0.6908\n",
            "Epoch 6/40\n",
            "1041/1041 [==============================] - 303s 291ms/step - loss: 0.5687 - accuracy: 0.7037 - val_loss: 0.5746 - val_accuracy: 0.6990\n",
            "Epoch 7/40\n",
            "1041/1041 [==============================] - 311s 299ms/step - loss: 0.5565 - accuracy: 0.7138 - val_loss: 0.5565 - val_accuracy: 0.7123\n",
            "Epoch 8/40\n",
            "1041/1041 [==============================] - 294s 282ms/step - loss: 0.5472 - accuracy: 0.7205 - val_loss: 0.5494 - val_accuracy: 0.7191\n",
            "Epoch 9/40\n",
            "1041/1041 [==============================] - 300s 288ms/step - loss: 0.5380 - accuracy: 0.7284 - val_loss: 0.5442 - val_accuracy: 0.7226\n",
            "Epoch 10/40\n",
            "1041/1041 [==============================] - 291s 279ms/step - loss: 0.5282 - accuracy: 0.7346 - val_loss: 0.5378 - val_accuracy: 0.7287\n",
            "Epoch 11/40\n",
            "1041/1041 [==============================] - 303s 291ms/step - loss: 0.5161 - accuracy: 0.7450 - val_loss: 0.5235 - val_accuracy: 0.7403\n",
            "Epoch 12/40\n",
            "1041/1041 [==============================] - 285s 274ms/step - loss: 0.5035 - accuracy: 0.7532 - val_loss: 0.5210 - val_accuracy: 0.7422\n",
            "Epoch 13/40\n",
            "1041/1041 [==============================] - 313s 301ms/step - loss: 0.4882 - accuracy: 0.7640 - val_loss: 0.4989 - val_accuracy: 0.7583\n",
            "Epoch 14/40\n",
            "1041/1041 [==============================] - 309s 297ms/step - loss: 0.4759 - accuracy: 0.7733 - val_loss: 0.4913 - val_accuracy: 0.7647\n",
            "Epoch 15/40\n",
            "1041/1041 [==============================] - 289s 277ms/step - loss: 0.4636 - accuracy: 0.7795 - val_loss: 0.4782 - val_accuracy: 0.7712\n",
            "Epoch 16/40\n",
            "1041/1041 [==============================] - 294s 282ms/step - loss: 0.4526 - accuracy: 0.7880 - val_loss: 0.4760 - val_accuracy: 0.7734\n",
            "Epoch 17/40\n",
            "1041/1041 [==============================] - 302s 290ms/step - loss: 0.4399 - accuracy: 0.7951 - val_loss: 0.4710 - val_accuracy: 0.7778\n",
            "Epoch 18/40\n",
            "1041/1041 [==============================] - 300s 288ms/step - loss: 0.4281 - accuracy: 0.8029 - val_loss: 0.4574 - val_accuracy: 0.7856\n",
            "Epoch 19/40\n",
            "1041/1041 [==============================] - 293s 281ms/step - loss: 0.4145 - accuracy: 0.8103 - val_loss: 0.4562 - val_accuracy: 0.7879\n",
            "Epoch 20/40\n",
            "1041/1041 [==============================] - 313s 301ms/step - loss: 0.4021 - accuracy: 0.8183 - val_loss: 0.4393 - val_accuracy: 0.7958\n",
            "Epoch 21/40\n",
            "1041/1041 [==============================] - 288s 277ms/step - loss: 0.3870 - accuracy: 0.8260 - val_loss: 0.4324 - val_accuracy: 0.8002\n",
            "Epoch 22/40\n",
            "1041/1041 [==============================] - 315s 303ms/step - loss: 0.3733 - accuracy: 0.8346 - val_loss: 0.4286 - val_accuracy: 0.8020\n",
            "Epoch 23/40\n",
            "1041/1041 [==============================] - 290s 279ms/step - loss: 0.3596 - accuracy: 0.8402 - val_loss: 0.4231 - val_accuracy: 0.8083\n",
            "Epoch 24/40\n",
            "1041/1041 [==============================] - 309s 297ms/step - loss: 0.3461 - accuracy: 0.8476 - val_loss: 0.4219 - val_accuracy: 0.8109\n",
            "Epoch 25/40\n",
            "1041/1041 [==============================] - 287s 276ms/step - loss: 0.3314 - accuracy: 0.8559 - val_loss: 0.4103 - val_accuracy: 0.8172\n",
            "Epoch 26/40\n",
            "1041/1041 [==============================] - 313s 300ms/step - loss: 0.3187 - accuracy: 0.8617 - val_loss: 0.4119 - val_accuracy: 0.8189\n",
            "Epoch 27/40\n",
            "1041/1041 [==============================] - 288s 277ms/step - loss: 0.3056 - accuracy: 0.8701 - val_loss: 0.4149 - val_accuracy: 0.8165\n",
            "Epoch 28/40\n",
            "1041/1041 [==============================] - 311s 299ms/step - loss: 0.2911 - accuracy: 0.8752 - val_loss: 0.4076 - val_accuracy: 0.8188\n",
            "Epoch 29/40\n",
            "1041/1041 [==============================] - 285s 273ms/step - loss: 0.2777 - accuracy: 0.8826 - val_loss: 0.4042 - val_accuracy: 0.8233\n",
            "Epoch 30/40\n",
            "1041/1041 [==============================] - 315s 302ms/step - loss: 0.2657 - accuracy: 0.8883 - val_loss: 0.4184 - val_accuracy: 0.8215\n",
            "Epoch 31/40\n",
            "1041/1041 [==============================] - 281s 270ms/step - loss: 0.2528 - accuracy: 0.8939 - val_loss: 0.4227 - val_accuracy: 0.8211\n",
            "Epoch 32/40\n",
            "1041/1041 [==============================] - 314s 301ms/step - loss: 0.2388 - accuracy: 0.9010 - val_loss: 0.4287 - val_accuracy: 0.8219\n",
            "Epoch 33/40\n",
            "1041/1041 [==============================] - 281s 270ms/step - loss: 0.2258 - accuracy: 0.9076 - val_loss: 0.4320 - val_accuracy: 0.8244\n",
            "Epoch 34/40\n",
            "1041/1041 [==============================] - 320s 308ms/step - loss: 0.2155 - accuracy: 0.9118 - val_loss: 0.4402 - val_accuracy: 0.8231\n",
            "Epoch 35/40\n",
            "1041/1041 [==============================] - 283s 272ms/step - loss: 0.2023 - accuracy: 0.9181 - val_loss: 0.4380 - val_accuracy: 0.8304\n",
            "Epoch 36/40\n",
            "1041/1041 [==============================] - 315s 302ms/step - loss: 0.1915 - accuracy: 0.9239 - val_loss: 0.4482 - val_accuracy: 0.8258\n",
            "Epoch 37/40\n",
            "1041/1041 [==============================] - 288s 277ms/step - loss: 0.1803 - accuracy: 0.9278 - val_loss: 0.4617 - val_accuracy: 0.8244\n",
            "Epoch 38/40\n",
            "1041/1041 [==============================] - 310s 298ms/step - loss: 0.1691 - accuracy: 0.9327 - val_loss: 0.4599 - val_accuracy: 0.8283\n",
            "Epoch 39/40\n",
            "1041/1041 [==============================] - 282s 270ms/step - loss: 0.1598 - accuracy: 0.9377 - val_loss: 0.4615 - val_accuracy: 0.8305\n",
            "Epoch 40/40\n",
            "1041/1041 [==============================] - 321s 308ms/step - loss: 0.1507 - accuracy: 0.9417 - val_loss: 0.4765 - val_accuracy: 0.8308\n"
          ]
        }
      ]
    },
    {
      "cell_type": "markdown",
      "source": [
        "###Plot on results\n",
        "We make a plot on the accuracy and loss over every epoch"
      ],
      "metadata": {
        "id": "g_zS-t3FFD0v"
      }
    },
    {
      "cell_type": "code",
      "source": [
        "fig, (ax1, ax2) = plt.subplots(1, 2)\n",
        "ax1.plot(history.history[\"accuracy\"])\n",
        "ax1.plot(history.history[\"val_accuracy\"])\n",
        "ax1.title.set_text(\"Model Accuracy\")\n",
        "ax1.set_ylabel(\"Accuracy\")\n",
        "ax1.set_xlabel(\"Epoch\")\n",
        "ax1.legend([\"Train\", \"Valid\"])\n",
        "\n",
        "ax2.plot(history.history[\"loss\"])\n",
        "ax2.plot(history.history[\"val_loss\"])\n",
        "ax2.title.set_text(\"Model loss\")\n",
        "ax2.set_ylabel(\"Loss\")\n",
        "ax2.set_xlabel(\"Epoch\")\n",
        "ax2.legend([\"Train\", \"Valid\"])\n",
        "plt.tight_layout()\n",
        "plt.show()"
      ],
      "metadata": {
        "colab": {
          "base_uri": "https://localhost:8080/",
          "height": 297
        },
        "id": "Y_tjesZpOaTI",
        "outputId": "6c635f6b-0ed5-4de4-a977-fa16b5f4b725"
      },
      "execution_count": null,
      "outputs": [
        {
          "output_type": "display_data",
          "data": {
            "text/plain": [
              "<Figure size 432x288 with 2 Axes>"
            ],
            "image/png": "[encoded data removed]"
          },
          "metadata": {
            "needs_background": "light"
          }
        }
      ]
    },
    {
      "cell_type": "markdown",
      "source": [
        "###Prediction on the Test data"
      ],
      "metadata": {
        "id": "hZRf9n0VFcAO"
      }
    },
    {
      "cell_type": "code",
      "source": [
        "xTest = model.predict(testGen)\n",
        "yTest = testGen.classes"
      ],
      "metadata": {
        "colab": {
          "base_uri": "https://localhost:8080/"
        },
        "id": "HAOgGLftPL0S",
        "outputId": "c1e7229e-ea95-4490-913c-844f83b0681c"
      },
      "execution_count": null,
      "outputs": [
        {
          "output_type": "stream",
          "name": "stdout",
          "text": [
            "209/209 [==============================] - 47s 220ms/step\n"
          ]
        }
      ]
    },
    {
      "cell_type": "markdown",
      "source": [
        "### Confusion Matrix"
      ],
      "metadata": {
        "id": "g90Wxk7pGB_p"
      }
    },
    {
      "cell_type": "code",
      "source": [
        "cm = confusion_matrix(yTest, xTest.round())\n",
        "disp = ConfusionMatrixDisplay(confusion_matrix=cm,display_labels=yTest)\n",
        "disp.plot()\n",
        "plt.show()"
      ],
      "metadata": {
        "colab": {
          "base_uri": "https://localhost:8080/",
          "height": 279
        },
        "id": "8VKRKnCIQgzB",
        "outputId": "ba0db589-9dd9-4ca0-f75a-307a037f7d55"
      },
      "execution_count": null,
      "outputs": [
        {
          "output_type": "display_data",
          "data": {
            "text/plain": [
              "<Figure size 432x288 with 2 Axes>"
            ],
            "image/png": "[encoded data removed]"
          },
          "metadata": {
            "needs_background": "light"
          }
        }
      ]
    },
    {
      "cell_type": "code",
      "source": [
        "print(\"ROC-AUC Score:\", roc_auc_score(yTest, xTest))\n",
        "print(\"AP Score:\", average_precision_score(yTest, xTest))"
      ],
      "metadata": {
        "colab": {
          "base_uri": "https://localhost:8080/"
        },
        "id": "kDe8nYWnf1dr",
        "outputId": "d1d09132-88be-4f35-f1f3-3d9dbaaca46b"
      },
      "execution_count": null,
      "outputs": [
        {
          "output_type": "stream",
          "name": "stdout",
          "text": [
            "ROC-AUC Score: 0.9085494599999999\n",
            "AP Score: 0.9056067296732019\n"
          ]
        }
      ]
    },
    {
      "cell_type": "markdown",
      "source": [
        "###Test results"
      ],
      "metadata": {
        "id": "U7FfgpziGdLv"
      }
    },
    {
      "cell_type": "code",
      "source": [
        "print(classification_report(yTest, xTest > 0.5))"
      ],
      "metadata": {
        "colab": {
          "base_uri": "https://localhost:8080/"
        },
        "id": "t_U-G1vqfI_N",
        "outputId": "85215e0e-7ee6-4df9-9542-02919764263b"
      },
      "execution_count": null,
      "outputs": [
        {
          "output_type": "stream",
          "name": "stdout",
          "text": [
            "              precision    recall  f1-score   support\n",
            "\n",
            "           0       0.83      0.84      0.83     10000\n",
            "           1       0.84      0.82      0.83     10000\n",
            "\n",
            "    accuracy                           0.83     20000\n",
            "   macro avg       0.83      0.83      0.83     20000\n",
            "weighted avg       0.83      0.83      0.83     20000\n",
            "\n"
          ]
        }
      ]
    },
    {
      "cell_type": "markdown",
      "source": [
        "##Optimizer mini-batch GD"
      ],
      "metadata": {
        "id": "Bib2WytIDh6j"
      }
    },
    {
      "cell_type": "markdown",
      "source": [
        "###Adapt the data\n",
        "In this run we use different optimizer, mini-batch gradient descent and as the name suggests it operates with small batch sizes. hence in the following cell we change the batch size."
      ],
      "metadata": {
        "id": "OVYU4ir9J6Vm"
      }
    },
    {
      "cell_type": "code",
      "source": [
        "trainGen = imageGen.flow_from_directory(\n",
        "    path + 'train/',\n",
        "    target_size=(32, 32),\n",
        "    batch_size=25,\n",
        "    color_mode='grayscale',\n",
        "    class_mode='binary'\n",
        ")\n",
        "testGen = imageGen.flow_from_directory(\n",
        "    path + 'test/',\n",
        "    target_size=(32, 32),\n",
        "    batch_size=25,\n",
        "    color_mode='grayscale',\n",
        "    class_mode='binary',\n",
        "    shuffle = False\n",
        ")\n",
        "validGen = imageGen.flow_from_directory(\n",
        "    path + 'valid/',\n",
        "    target_size=(32, 32),\n",
        "    batch_size=25,\n",
        "    color_mode='grayscale',\n",
        "    class_mode='binary'\n",
        ")"
      ],
      "metadata": {
        "colab": {
          "base_uri": "https://localhost:8080/"
        },
        "id": "w9tviF9kD4YI",
        "outputId": "d721ff90-7568-417d-dabc-a0c5aa10aef6"
      },
      "execution_count": null,
      "outputs": [
        {
          "output_type": "stream",
          "name": "stdout",
          "text": [
            "Found 100000 images belonging to 2 classes.\n",
            "Found 20000 images belonging to 2 classes.\n",
            "Found 20000 images belonging to 2 classes.\n"
          ]
        }
      ]
    },
    {
      "cell_type": "markdown",
      "source": [
        "###Model\n",
        "\n",
        "**Configuration:**\n",
        "> Activation function: tanh, sigmoid\n",
        "\n",
        "> Cost function: crossentropy\n",
        "\n",
        "> Optimization function: mini-batch gradient descent "
      ],
      "metadata": {
        "id": "pfc_8iZYL7Ed"
      }
    },
    {
      "cell_type": "code",
      "source": [
        "model = LeNet((32,32,1), 1,'SGD')\n",
        "model.summary()"
      ],
      "metadata": {
        "colab": {
          "base_uri": "https://localhost:8080/"
        },
        "id": "ZaYufqJvDp4q",
        "outputId": "724d7b56-992c-4597-992b-72522152cec1"
      },
      "execution_count": null,
      "outputs": [
        {
          "output_type": "stream",
          "name": "stdout",
          "text": [
            "Model: \"le_net_1\"\n",
            "_________________________________________________________________\n",
            " Layer (type)                Output Shape              Param #   \n",
            "=================================================================\n",
            " conv2d_2 (Conv2D)           (None, 32, 32, 6)         156       \n",
            "                                                                 \n",
            " average_pooling2d_2 (Averag  (None, 16, 16, 6)        0         \n",
            " ePooling2D)                                                     \n",
            "                                                                 \n",
            " conv2d_3 (Conv2D)           (None, 12, 12, 16)        2416      \n",
            "                                                                 \n",
            " average_pooling2d_3 (Averag  (None, 6, 6, 16)         0         \n",
            " ePooling2D)                                                     \n",
            "                                                                 \n",
            " flatten_1 (Flatten)         (None, 576)               0         \n",
            "                                                                 \n",
            " dense_3 (Dense)             (None, 120)               69240     \n",
            "                                                                 \n",
            " dense_4 (Dense)             (None, 84)                10164     \n",
            "                                                                 \n",
            " dense_5 (Dense)             (None, 1)                 85        \n",
            "                                                                 \n",
            "=================================================================\n",
            "Total params: 82,061\n",
            "Trainable params: 82,061\n",
            "Non-trainable params: 0\n",
            "_________________________________________________________________\n"
          ]
        }
      ]
    },
    {
      "cell_type": "markdown",
      "source": [
        "###Model training"
      ],
      "metadata": {
        "id": "ufrOtv9XMQIC"
      }
    },
    {
      "cell_type": "code",
      "source": [
        "history = model.fit_generator(\n",
        "    trainGen,\n",
        "    steps_per_epoch = (100000//25),\n",
        "    validation_data = validGen,\n",
        "    validation_steps = (20000//25),\n",
        "    epochs = 64\n",
        ")"
      ],
      "metadata": {
        "colab": {
          "base_uri": "https://localhost:8080/"
        },
        "id": "JwCOkzeUELwt",
        "outputId": "73942ede-6848-4026-bd91-98a53d1278c4"
      },
      "execution_count": null,
      "outputs": [
        {
          "metadata": {
            "tags": null
          },
          "name": "stderr",
          "output_type": "stream",
          "text": [
            "<ipython-input-15-223a916ae17e>:1: UserWarning: `Model.fit_generator` is deprecated and will be removed in a future version. Please use `Model.fit`, which supports generators.\n",
            "  history = model.fit_generator(\n",
            "/usr/local/lib/python3.8/dist-packages/keras/preprocessing/image.py:1663: UserWarning: This ImageDataGenerator specifies `featurewise_center`, but it hasn't been fit on any training data. Fit it first by calling `.fit(numpy_data)`.\n",
            "  warnings.warn('This ImageDataGenerator specifies '\n",
            "/usr/local/lib/python3.8/dist-packages/keras/preprocessing/image.py:1671: UserWarning: This ImageDataGenerator specifies `featurewise_std_normalization`, but it hasn't been fit on any training data. Fit it first by calling `.fit(numpy_data)`.\n",
            "  warnings.warn('This ImageDataGenerator specifies '\n"
          ]
        },
        {
          "output_type": "stream",
          "name": "stdout",
          "text": [
            "Epoch 1/64\n",
            "4000/4000 [==============================] - 316s 79ms/step - loss: 0.6470 - accuracy: 0.6227 - val_loss: 0.6303 - val_accuracy: 0.6424\n",
            "Epoch 2/64\n",
            "4000/4000 [==============================] - 308s 77ms/step - loss: 0.6208 - accuracy: 0.6539 - val_loss: 0.6166 - val_accuracy: 0.6600\n",
            "Epoch 3/64\n",
            "4000/4000 [==============================] - 312s 78ms/step - loss: 0.6077 - accuracy: 0.6680 - val_loss: 0.6064 - val_accuracy: 0.6699\n",
            "Epoch 4/64\n",
            "4000/4000 [==============================] - 305s 76ms/step - loss: 0.5889 - accuracy: 0.6858 - val_loss: 0.5940 - val_accuracy: 0.6806\n",
            "Epoch 5/64\n",
            "4000/4000 [==============================] - 327s 82ms/step - loss: 0.5666 - accuracy: 0.7049 - val_loss: 0.5611 - val_accuracy: 0.7096\n",
            "Epoch 6/64\n",
            "4000/4000 [==============================] - 306s 77ms/step - loss: 0.5468 - accuracy: 0.7222 - val_loss: 0.5498 - val_accuracy: 0.7134\n",
            "Epoch 7/64\n",
            "4000/4000 [==============================] - 363s 91ms/step - loss: 0.5285 - accuracy: 0.7347 - val_loss: 0.5279 - val_accuracy: 0.7334\n",
            "Epoch 8/64\n",
            "4000/4000 [==============================] - 345s 86ms/step - loss: 0.5124 - accuracy: 0.7470 - val_loss: 0.5118 - val_accuracy: 0.7459\n",
            "Epoch 9/64\n",
            "4000/4000 [==============================] - 355s 89ms/step - loss: 0.4980 - accuracy: 0.7579 - val_loss: 0.5050 - val_accuracy: 0.7477\n",
            "Epoch 10/64\n",
            "4000/4000 [==============================] - 348s 87ms/step - loss: 0.4842 - accuracy: 0.7656 - val_loss: 0.4920 - val_accuracy: 0.7627\n",
            "Epoch 11/64\n",
            "4000/4000 [==============================] - 306s 76ms/step - loss: 0.4717 - accuracy: 0.7738 - val_loss: 0.4749 - val_accuracy: 0.7729\n",
            "Epoch 12/64\n",
            "4000/4000 [==============================] - 336s 84ms/step - loss: 0.4601 - accuracy: 0.7832 - val_loss: 0.4723 - val_accuracy: 0.7789\n",
            "Epoch 13/64\n",
            "4000/4000 [==============================] - 349s 87ms/step - loss: 0.4491 - accuracy: 0.7882 - val_loss: 0.4774 - val_accuracy: 0.7732\n",
            "Epoch 14/64\n",
            "4000/4000 [==============================] - 346s 86ms/step - loss: 0.4382 - accuracy: 0.7949 - val_loss: 0.4526 - val_accuracy: 0.7876\n",
            "Epoch 15/64\n",
            "4000/4000 [==============================] - 369s 92ms/step - loss: 0.4282 - accuracy: 0.8023 - val_loss: 0.4523 - val_accuracy: 0.7886\n",
            "Epoch 16/64\n",
            "4000/4000 [==============================] - 315s 79ms/step - loss: 0.4183 - accuracy: 0.8067 - val_loss: 0.4479 - val_accuracy: 0.7901\n",
            "Epoch 17/64\n",
            "4000/4000 [==============================] - 344s 86ms/step - loss: 0.4094 - accuracy: 0.8124 - val_loss: 0.4388 - val_accuracy: 0.7980\n",
            "Epoch 18/64\n",
            "4000/4000 [==============================] - 304s 76ms/step - loss: 0.4002 - accuracy: 0.8174 - val_loss: 0.4483 - val_accuracy: 0.7945\n",
            "Epoch 19/64\n",
            "4000/4000 [==============================] - 350s 88ms/step - loss: 0.3903 - accuracy: 0.8247 - val_loss: 0.4400 - val_accuracy: 0.7944\n",
            "4000/4000 [==============================] - 350s 88ms/step - loss: 0.3903 - accuracy: 0.8247 - val_loss: 0.4400 - val_accuracy: 0.7944\n",
            "Epoch 20/64\n",
            "Epoch 20/64\n",
            "4000/4000 [==============================] - 359s 90ms/step - loss: 0.3813 - accuracy: 0.8283 - val_loss: 0.4233 - val_accuracy: 0.8084\n",
            "4000/4000 [==============================] - 359s 90ms/step - loss: 0.3813 - accuracy: 0.8283 - val_loss: 0.4233 - val_accuracy: 0.8084\n",
            "Epoch 21/64\n",
            "Epoch 21/64\n",
            "4000/4000 [==============================] - 337s 84ms/step - loss: 0.3728 - accuracy: 0.8328 - val_loss: 0.4279 - val_accuracy: 0.8081\n",
            "4000/4000 [==============================] - 337s 84ms/step - loss: 0.3728 - accuracy: 0.8328 - val_loss: 0.4279 - val_accuracy: 0.8081\n",
            "Epoch 22/64\n",
            "Epoch 22/64\n",
            "4000/4000 [==============================] - 354s 89ms/step - loss: 0.3646 - accuracy: 0.8377 - val_loss: 0.4116 - val_accuracy: 0.8149\n",
            "4000/4000 [==============================] - 354s 89ms/step - loss: 0.3646 - accuracy: 0.8377 - val_loss: 0.4116 - val_accuracy: 0.8149\n",
            "Epoch 23/64\n",
            "Epoch 23/64\n",
            "4000/4000 [==============================] - 329s 82ms/step - loss: 0.3561 - accuracy: 0.8409 - val_loss: 0.4270 - val_accuracy: 0.8083\n",
            "4000/4000 [==============================] - 329s 82ms/step - loss: 0.3561 - accuracy: 0.8409 - val_loss: 0.4270 - val_accuracy: 0.8083\n",
            "Epoch 24/64\n",
            "Epoch 24/64\n",
            "4000/4000 [==============================] - 353s 88ms/step - loss: 0.3478 - accuracy: 0.8468 - val_loss: 0.4148 - val_accuracy: 0.8156\n",
            "4000/4000 [==============================] - 353s 88ms/step - loss: 0.3478 - accuracy: 0.8468 - val_loss: 0.4148 - val_accuracy: 0.8156\n",
            "Epoch 25/64\n",
            "Epoch 25/64\n",
            "4000/4000 [==============================] - 364s 91ms/step - loss: 0.3398 - accuracy: 0.8504 - val_loss: 0.4209 - val_accuracy: 0.8124\n",
            "4000/4000 [==============================] - 364s 91ms/step - loss: 0.3398 - accuracy: 0.8504 - val_loss: 0.4209 - val_accuracy: 0.8124\n",
            "Epoch 26/64\n",
            "Epoch 26/64\n",
            "4000/4000 [==============================] - 332s 83ms/step - loss: 0.3323 - accuracy: 0.8548 - val_loss: 0.4423 - val_accuracy: 0.8014\n",
            "4000/4000 [==============================] - 332s 83ms/step - loss: 0.3323 - accuracy: 0.8548 - val_loss: 0.4423 - val_accuracy: 0.8014\n",
            "Epoch 27/64\n",
            "Epoch 27/64\n",
            "4000/4000 [==============================] - 366s 91ms/step - loss: 0.3245 - accuracy: 0.8576 - val_loss: 0.4059 - val_accuracy: 0.8213\n",
            "4000/4000 [==============================] - 366s 91ms/step - loss: 0.3245 - accuracy: 0.8576 - val_loss: 0.4059 - val_accuracy: 0.8213\n",
            "Epoch 28/64\n",
            "Epoch 28/64\n",
            "4000/4000 [==============================] - 329s 82ms/step - loss: 0.3165 - accuracy: 0.8637 - val_loss: 0.4053 - val_accuracy: 0.8204\n",
            "4000/4000 [==============================] - 329s 82ms/step - loss: 0.3165 - accuracy: 0.8637 - val_loss: 0.4053 - val_accuracy: 0.8204\n",
            "Epoch 29/64\n",
            "Epoch 29/64\n",
            "4000/4000 [==============================] - 395s 99ms/step - loss: 0.3104 - accuracy: 0.8658 - val_loss: 0.4160 - val_accuracy: 0.8165\n",
            "4000/4000 [==============================] - 395s 99ms/step - loss: 0.3104 - accuracy: 0.8658 - val_loss: 0.4160 - val_accuracy: 0.8165\n",
            "Epoch 30/64\n",
            "Epoch 30/64\n",
            "4000/4000 [==============================] - 361s 90ms/step - loss: 0.3031 - accuracy: 0.8702 - val_loss: 0.3976 - val_accuracy: 0.8263\n",
            "4000/4000 [==============================] - 361s 90ms/step - loss: 0.3031 - accuracy: 0.8702 - val_loss: 0.3976 - val_accuracy: 0.8263\n",
            "Epoch 31/64\n",
            "Epoch 31/64\n",
            "4000/4000 [==============================] - 325s 81ms/step - loss: 0.2960 - accuracy: 0.8739 - val_loss: 0.4068 - val_accuracy: 0.8210\n",
            "4000/4000 [==============================] - 325s 81ms/step - loss: 0.2960 - accuracy: 0.8739 - val_loss: 0.4068 - val_accuracy: 0.8210\n",
            "Epoch 32/64\n",
            "Epoch 32/64\n",
            "4000/4000 [==============================] - 355s 89ms/step - loss: 0.2900 - accuracy: 0.8766 - val_loss: 0.3968 - val_accuracy: 0.8261\n",
            "4000/4000 [==============================] - 355s 89ms/step - loss: 0.2900 - accuracy: 0.8766 - val_loss: 0.3968 - val_accuracy: 0.8261\n",
            "Epoch 33/64\n",
            "Epoch 33/64\n",
            "4000/4000 [==============================] - 345s 86ms/step - loss: 0.2823 - accuracy: 0.8801 - val_loss: 0.3967 - val_accuracy: 0.8296\n",
            "4000/4000 [==============================] - 345s 86ms/step - loss: 0.2823 - accuracy: 0.8801 - val_loss: 0.3967 - val_accuracy: 0.8296\n",
            "Epoch 34/64\n",
            "Epoch 34/64\n",
            "4000/4000 [==============================] - 337s 84ms/step - loss: 0.2765 - accuracy: 0.8827 - val_loss: 0.4136 - val_accuracy: 0.8211\n",
            "4000/4000 [==============================] - 337s 84ms/step - loss: 0.2765 - accuracy: 0.8827 - val_loss: 0.4136 - val_accuracy: 0.8211\n",
            "Epoch 35/64\n",
            "Epoch 35/64\n",
            "4000/4000 [==============================] - 346s 87ms/step - loss: 0.2697 - accuracy: 0.8857 - val_loss: 0.3941 - val_accuracy: 0.8313\n",
            "4000/4000 [==============================] - 346s 87ms/step - loss: 0.2697 - accuracy: 0.8857 - val_loss: 0.3941 - val_accuracy: 0.8313\n",
            "Epoch 36/64\n",
            "Epoch 36/64\n",
            "4000/4000 [==============================] - 329s 82ms/step - loss: 0.2633 - accuracy: 0.8890 - val_loss: 0.4125 - val_accuracy: 0.8246\n",
            "4000/4000 [==============================] - 329s 82ms/step - loss: 0.2633 - accuracy: 0.8890 - val_loss: 0.4125 - val_accuracy: 0.8246\n",
            "Epoch 37/64\n",
            "Epoch 37/64\n",
            "4000/4000 [==============================] - 356s 89ms/step - loss: 0.2561 - accuracy: 0.8926 - val_loss: 0.4092 - val_accuracy: 0.8296\n",
            "4000/4000 [==============================] - 356s 89ms/step - loss: 0.2561 - accuracy: 0.8926 - val_loss: 0.4092 - val_accuracy: 0.8296\n",
            "Epoch 38/64\n",
            "Epoch 38/64\n",
            "4000/4000 [==============================] - 322s 81ms/step - loss: 0.2501 - accuracy: 0.8952 - val_loss: 0.4325 - val_accuracy: 0.8210\n",
            "4000/4000 [==============================] - 322s 81ms/step - loss: 0.2501 - accuracy: 0.8952 - val_loss: 0.4325 - val_accuracy: 0.8210\n",
            "Epoch 39/64\n",
            "Epoch 39/64\n",
            "4000/4000 [==============================] - 351s 88ms/step - loss: 0.2434 - accuracy: 0.8988 - val_loss: 0.4007 - val_accuracy: 0.8310\n",
            "4000/4000 [==============================] - 351s 88ms/step - loss: 0.2434 - accuracy: 0.8988 - val_loss: 0.4007 - val_accuracy: 0.8310\n",
            "Epoch 40/64\n",
            "Epoch 40/64\n",
            "4000/4000 [==============================] - 347s 87ms/step - loss: 0.2377 - accuracy: 0.9018 - val_loss: 0.4188 - val_accuracy: 0.8259\n",
            "4000/4000 [==============================] - 347s 87ms/step - loss: 0.2377 - accuracy: 0.9018 - val_loss: 0.4188 - val_accuracy: 0.8259\n",
            "Epoch 41/64\n",
            "Epoch 41/64\n",
            "4000/4000 [==============================] - 323s 81ms/step - loss: 0.2319 - accuracy: 0.9031 - val_loss: 0.4216 - val_accuracy: 0.8267\n",
            "4000/4000 [==============================] - 323s 81ms/step - loss: 0.2319 - accuracy: 0.9031 - val_loss: 0.4216 - val_accuracy: 0.8267\n",
            "Epoch 42/64\n",
            "Epoch 42/64\n",
            "4000/4000 [==============================] - 390s 97ms/step - loss: 0.2263 - accuracy: 0.9074 - val_loss: 0.4031 - val_accuracy: 0.8360\n",
            "4000/4000 [==============================] - 390s 97ms/step - loss: 0.2263 - accuracy: 0.9074 - val_loss: 0.4031 - val_accuracy: 0.8360\n",
            "Epoch 43/64\n",
            "Epoch 43/64\n",
            "4000/4000 [==============================] - 351s 88ms/step - loss: 0.2199 - accuracy: 0.9102 - val_loss: 0.4159 - val_accuracy: 0.8324\n",
            "4000/4000 [==============================] - 351s 88ms/step - loss: 0.2199 - accuracy: 0.9102 - val_loss: 0.4159 - val_accuracy: 0.8324\n",
            "Epoch 44/64\n",
            "Epoch 44/64\n",
            "4000/4000 [==============================] - 331s 83ms/step - loss: 0.2139 - accuracy: 0.9127 - val_loss: 0.4166 - val_accuracy: 0.8328\n",
            "4000/4000 [==============================] - 331s 83ms/step - loss: 0.2139 - accuracy: 0.9127 - val_loss: 0.4166 - val_accuracy: 0.8328\n",
            "Epoch 45/64\n",
            "Epoch 45/64\n",
            "4000/4000 [==============================] - 358s 90ms/step - loss: 0.2083 - accuracy: 0.9148 - val_loss: 0.4176 - val_accuracy: 0.8373\n",
            "4000/4000 [==============================] - 358s 90ms/step - loss: 0.2083 - accuracy: 0.9148 - val_loss: 0.4176 - val_accuracy: 0.8373\n",
            "Epoch 46/64\n",
            "Epoch 46/64\n",
            "4000/4000 [==============================] - 333s 83ms/step - loss: 0.2024 - accuracy: 0.9172 - val_loss: 0.4162 - val_accuracy: 0.8375\n",
            "4000/4000 [==============================] - 333s 83ms/step - loss: 0.2024 - accuracy: 0.9172 - val_loss: 0.4162 - val_accuracy: 0.8375\n",
            "Epoch 47/64\n",
            "Epoch 47/64\n",
            "4000/4000 [==============================] - 379s 95ms/step - loss: 0.1974 - accuracy: 0.9209 - val_loss: 0.4151 - val_accuracy: 0.8399\n",
            "4000/4000 [==============================] - 379s 95ms/step - loss: 0.1974 - accuracy: 0.9209 - val_loss: 0.4151 - val_accuracy: 0.8399\n",
            "Epoch 48/64\n",
            "Epoch 48/64\n",
            "4000/4000 [==============================] - 386s 96ms/step - loss: 0.1906 - accuracy: 0.9231 - val_loss: 0.4655 - val_accuracy: 0.8243\n",
            "4000/4000 [==============================] - 386s 96ms/step - loss: 0.1906 - accuracy: 0.9231 - val_loss: 0.4655 - val_accuracy: 0.8243\n",
            "Epoch 49/64\n",
            "Epoch 49/64\n",
            "4000/4000 [==============================] - 369s 92ms/step - loss: 0.1850 - accuracy: 0.9256 - val_loss: 0.4420 - val_accuracy: 0.8318\n",
            "4000/4000 [==============================] - 369s 92ms/step - loss: 0.1850 - accuracy: 0.9256 - val_loss: 0.4420 - val_accuracy: 0.8318\n",
            "Epoch 50/64\n",
            "Epoch 50/64\n",
            "4000/4000 [==============================] - 354s 88ms/step - loss: 0.1791 - accuracy: 0.9293 - val_loss: 0.4444 - val_accuracy: 0.8334\n",
            "4000/4000 [==============================] - 354s 88ms/step - loss: 0.1791 - accuracy: 0.9293 - val_loss: 0.4444 - val_accuracy: 0.8334\n",
            "Epoch 51/64\n",
            "Epoch 51/64\n",
            "4000/4000 [==============================] - 361s 90ms/step - loss: 0.1739 - accuracy: 0.9310 - val_loss: 0.4462 - val_accuracy: 0.8368\n",
            "4000/4000 [==============================] - 361s 90ms/step - loss: 0.1739 - accuracy: 0.9310 - val_loss: 0.4462 - val_accuracy: 0.8368\n",
            "Epoch 52/64\n",
            "Epoch 52/64\n",
            "4000/4000 [==============================] - 328s 82ms/step - loss: 0.1693 - accuracy: 0.9329 - val_loss: 0.4440 - val_accuracy: 0.8388\n",
            "4000/4000 [==============================] - 328s 82ms/step - loss: 0.1693 - accuracy: 0.9329 - val_loss: 0.4440 - val_accuracy: 0.8388\n",
            "Epoch 53/64\n",
            "Epoch 53/64\n",
            "4000/4000 [==============================] - 354s 89ms/step - loss: 0.1632 - accuracy: 0.9348 - val_loss: 0.4461 - val_accuracy: 0.8387\n",
            "4000/4000 [==============================] - 354s 89ms/step - loss: 0.1632 - accuracy: 0.9348 - val_loss: 0.4461 - val_accuracy: 0.8387\n",
            "Epoch 54/64\n",
            "Epoch 54/64\n",
            "4000/4000 [==============================] - 366s 92ms/step - loss: 0.1580 - accuracy: 0.9373 - val_loss: 0.4542 - val_accuracy: 0.8357\n",
            "4000/4000 [==============================] - 366s 92ms/step - loss: 0.1580 - accuracy: 0.9373 - val_loss: 0.4542 - val_accuracy: 0.8357\n",
            "Epoch 55/64\n",
            "Epoch 55/64\n",
            "4000/4000 [==============================] - 379s 95ms/step - loss: 0.1522 - accuracy: 0.9404 - val_loss: 0.4582 - val_accuracy: 0.8392\n",
            "4000/4000 [==============================] - 379s 95ms/step - loss: 0.1522 - accuracy: 0.9404 - val_loss: 0.4582 - val_accuracy: 0.8392\n",
            "Epoch 56/64\n",
            "Epoch 56/64\n",
            "4000/4000 [==============================] - 389s 97ms/step - loss: 0.1460 - accuracy: 0.9435 - val_loss: 0.4682 - val_accuracy: 0.8361\n",
            "4000/4000 [==============================] - 389s 97ms/step - loss: 0.1460 - accuracy: 0.9435 - val_loss: 0.4682 - val_accuracy: 0.8361\n",
            "Epoch 57/64\n",
            "Epoch 57/64\n",
            "4000/4000 [==============================] - 333s 83ms/step - loss: 0.1420 - accuracy: 0.9445 - val_loss: 0.4785 - val_accuracy: 0.8364\n",
            "4000/4000 [==============================] - 333s 83ms/step - loss: 0.1420 - accuracy: 0.9445 - val_loss: 0.4785 - val_accuracy: 0.8364\n",
            "Epoch 58/64\n",
            "Epoch 58/64\n",
            "4000/4000 [==============================] - 349s 87ms/step - loss: 0.1370 - accuracy: 0.9461 - val_loss: 0.4891 - val_accuracy: 0.8337\n",
            "4000/4000 [==============================] - 349s 87ms/step - loss: 0.1370 - accuracy: 0.9461 - val_loss: 0.4891 - val_accuracy: 0.8337\n",
            "Epoch 59/64\n",
            "Epoch 59/64\n",
            "4000/4000 [==============================] - 349s 87ms/step - loss: 0.1306 - accuracy: 0.9506 - val_loss: 0.4840 - val_accuracy: 0.8364\n",
            "4000/4000 [==============================] - 349s 87ms/step - loss: 0.1306 - accuracy: 0.9506 - val_loss: 0.4840 - val_accuracy: 0.8364\n",
            "Epoch 60/64\n",
            "Epoch 60/64\n",
            "4000/4000 [==============================] - 330s 83ms/step - loss: 0.1255 - accuracy: 0.9522 - val_loss: 0.4962 - val_accuracy: 0.8383\n",
            "4000/4000 [==============================] - 330s 83ms/step - loss: 0.1255 - accuracy: 0.9522 - val_loss: 0.4962 - val_accuracy: 0.8383\n",
            "Epoch 61/64\n",
            "Epoch 61/64\n",
            "4000/4000 [==============================] - 350s 88ms/step - loss: 0.1205 - accuracy: 0.9542 - val_loss: 0.5108 - val_accuracy: 0.8327\n",
            "4000/4000 [==============================] - 350s 88ms/step - loss: 0.1205 - accuracy: 0.9542 - val_loss: 0.5108 - val_accuracy: 0.8327\n",
            "Epoch 62/64\n",
            "Epoch 62/64\n",
            "4000/4000 [==============================] - 324s 81ms/step - loss: 0.1166 - accuracy: 0.9556 - val_loss: 0.5151 - val_accuracy: 0.8357\n",
            "4000/4000 [==============================] - 324s 81ms/step - loss: 0.1166 - accuracy: 0.9556 - val_loss: 0.5151 - val_accuracy: 0.8357\n",
            "Epoch 63/64\n",
            "Epoch 63/64\n",
            "4000/4000 [==============================] - 351s 88ms/step - loss: 0.1106 - accuracy: 0.9591 - val_loss: 0.5104 - val_accuracy: 0.8385\n",
            "4000/4000 [==============================] - 351s 88ms/step - loss: 0.1106 - accuracy: 0.9591 - val_loss: 0.5104 - val_accuracy: 0.8385\n",
            "Epoch 64/64\n",
            "Epoch 64/64\n",
            "4000/4000 [==============================] - 330s 82ms/step - loss: 0.1062 - accuracy: 0.9601 - val_loss: 0.5731 - val_accuracy: 0.8288\n",
            "4000/4000 [==============================] - 330s 82ms/step - loss: 0.1062 - accuracy: 0.9601 - val_loss: 0.5731 - val_accuracy: 0.8288\n"
          ]
        }
      ]
    },
    {
      "cell_type": "markdown",
      "source": [
        "###Plot on results"
      ],
      "metadata": {
        "id": "VSC1DfxIMXmD"
      }
    },
    {
      "cell_type": "code",
      "source": [
        "fig, (ax1, ax2) = plt.subplots(1, 2)\n",
        "ax1.plot(history.history[\"accuracy\"])\n",
        "ax1.plot(history.history[\"val_accuracy\"])\n",
        "ax1.title.set_text(\"Model Accuracy\")\n",
        "ax1.set_ylabel(\"Accuracy\")\n",
        "ax1.set_xlabel(\"Epoch\")\n",
        "ax1.legend([\"Train\", \"Valid\"])\n",
        "\n",
        "ax2.plot(history.history[\"loss\"])\n",
        "ax2.plot(history.history[\"val_loss\"])\n",
        "ax2.title.set_text(\"Model loss\")\n",
        "ax2.set_ylabel(\"Loss\")\n",
        "ax2.set_xlabel(\"Epoch\")\n",
        "ax2.legend([\"Train\", \"Valid\"])\n",
        "plt.tight_layout()\n",
        "plt.show()"
      ],
      "metadata": {
        "colab": {
          "base_uri": "https://localhost:8080/",
          "height": 297
        },
        "id": "5K8cSBN86MMN",
        "outputId": "9acf8101-0bc1-43dd-fb05-9b0489ad8381"
      },
      "execution_count": null,
      "outputs": [
        {
          "output_type": "display_data",
          "data": {
            "text/plain": [
              "<Figure size 432x288 with 2 Axes>"
            ],
            "image/png": "[encoded data removed]"
          },
          "metadata": {
            "needs_background": "light"
          }
        }
      ]
    },
    {
      "cell_type": "markdown",
      "source": [
        "###Prediction on the Test data"
      ],
      "metadata": {
        "id": "c4SeK6dDMrKP"
      }
    },
    {
      "cell_type": "code",
      "source": [
        "xTest = model.predict(testGen)\n",
        "yTest = testGen.classes"
      ],
      "metadata": {
        "colab": {
          "base_uri": "https://localhost:8080/"
        },
        "id": "2fFk3HvT6ESl",
        "outputId": "f648eafe-ca03-4e14-8ee9-5dc20a6f83f2"
      },
      "execution_count": null,
      "outputs": [
        {
          "output_type": "stream",
          "name": "stdout",
          "text": [
            "\r  1/800 [..............................] - ETA: 1:12"
          ]
        },
        {
          "output_type": "stream",
          "name": "stderr",
          "text": [
            "/usr/local/lib/python3.8/dist-packages/keras/preprocessing/image.py:1663: UserWarning: This ImageDataGenerator specifies `featurewise_center`, but it hasn't been fit on any training data. Fit it first by calling `.fit(numpy_data)`.\n",
            "  warnings.warn('This ImageDataGenerator specifies '\n",
            "/usr/local/lib/python3.8/dist-packages/keras/preprocessing/image.py:1671: UserWarning: This ImageDataGenerator specifies `featurewise_std_normalization`, but it hasn't been fit on any training data. Fit it first by calling `.fit(numpy_data)`.\n",
            "  warnings.warn('This ImageDataGenerator specifies '\n"
          ]
        },
        {
          "output_type": "stream",
          "name": "stdout",
          "text": [
            "800/800 [==============================] - 48s 60ms/step\n"
          ]
        }
      ]
    },
    {
      "cell_type": "markdown",
      "source": [
        "###Confusion Matrix"
      ],
      "metadata": {
        "id": "ulyum5PZM5HR"
      }
    },
    {
      "cell_type": "code",
      "source": [
        "cm = confusion_matrix(yTest, xTest.round())\n",
        "disp = ConfusionMatrixDisplay(confusion_matrix=cm)\n",
        "disp.plot()\n",
        "plt.show()"
      ],
      "metadata": {
        "colab": {
          "base_uri": "https://localhost:8080/",
          "height": 279
        },
        "id": "syZO0S546ooo",
        "outputId": "6f181cf0-d57b-416b-f037-011e1a59831b"
      },
      "execution_count": null,
      "outputs": [
        {
          "output_type": "display_data",
          "data": {
            "text/plain": [
              "<Figure size 432x288 with 2 Axes>"
            ],
            "image/png": "[encoded data removed]"
          },
          "metadata": {
            "needs_background": "light"
          }
        }
      ]
    },
    {
      "cell_type": "markdown",
      "source": [
        "###Test results"
      ],
      "metadata": {
        "id": "zcj_z6zWM9Gf"
      }
    },
    {
      "cell_type": "code",
      "source": [
        "print(classification_report(yTest, xTest > 0.5))"
      ],
      "metadata": {
        "colab": {
          "base_uri": "https://localhost:8080/"
        },
        "id": "25Ae22hD6Jk2",
        "outputId": "397451da-6a2b-4fe6-b47d-d31ddbc4c3a5"
      },
      "execution_count": null,
      "outputs": [
        {
          "output_type": "stream",
          "name": "stdout",
          "text": [
            "              precision    recall  f1-score   support\n",
            "\n",
            "           0       0.78      0.90      0.84     10000\n",
            "           1       0.88      0.75      0.81     10000\n",
            "\n",
            "    accuracy                           0.83     20000\n",
            "   macro avg       0.83      0.83      0.82     20000\n",
            "weighted avg       0.83      0.83      0.82     20000\n",
            "\n"
          ]
        }
      ]
    },
    {
      "cell_type": "markdown",
      "source": [
        "##Activation relu and added dropouts"
      ],
      "metadata": {
        "id": "i_C6NF-DOm6j"
      }
    },
    {
      "cell_type": "markdown",
      "source": [
        "From the earlier run we came to conclusion that our model are getting overfitted and to counter that we add dropouts\n",
        "\n",
        "**Configuration:**\n",
        "> Activation function: relu, sigmoid\n",
        "\n",
        "> Cost function: crossentropy\n",
        "\n",
        "> Optimization function: Adam"
      ],
      "metadata": {
        "id": "kN9VnENjHthu"
      }
    },
    {
      "cell_type": "code",
      "source": [
        "class LeNet2(Sequential):\n",
        "    def __init__(self, input_shape, nb_classes, opt='adam'):\n",
        "        super().__init__()\n",
        "\n",
        "        self.add(Conv2D(6, kernel_size=(5, 5), strides=(1, 1), activation='relu', input_shape=input_shape, padding=\"same\"))\n",
        "        self.add(AveragePooling2D(pool_size=(2, 2), strides=(2, 2), padding='valid'))\n",
        "        self.add(Conv2D(16, kernel_size=(5, 5), strides=(1, 1), activation='relu', padding='valid'))\n",
        "        self.add(AveragePooling2D(pool_size=(2, 2), strides=(2, 2), padding='valid'))\n",
        "        self.add(Flatten())\n",
        "        self.add(Dense(120, activation='relu'))\n",
        "        self.add(Dropout(0.3))\n",
        "        self.add(Dense(84, activation='relu'))\n",
        "        self.add(Dropout(0.3))\n",
        "        self.add(Dense(nb_classes, activation='sigmoid'))\n",
        "\n",
        "        self.compile(optimizer=opt,\n",
        "                    loss='binary_crossentropy',\n",
        "                    metrics=['accuracy'])\n",
        "\n",
        "model = LeNet2((32,32,1), 1)\n",
        "model.summary()"
      ],
      "metadata": {
        "colab": {
          "base_uri": "https://localhost:8080/"
        },
        "id": "G_AhL6tCQpUj",
        "outputId": "7b7cbee1-c26c-4e66-eb9e-29a6c3299f33"
      },
      "execution_count": null,
      "outputs": [
        {
          "output_type": "stream",
          "name": "stdout",
          "text": [
            "Model: \"le_net2\"\n",
            "_________________________________________________________________\n",
            " Layer (type)                Output Shape              Param #   \n",
            "=================================================================\n",
            " conv2d (Conv2D)             (None, 32, 32, 6)         156       \n",
            "                                                                 \n",
            " average_pooling2d (AverageP  (None, 16, 16, 6)        0         \n",
            " ooling2D)                                                       \n",
            "                                                                 \n",
            " conv2d_1 (Conv2D)           (None, 12, 12, 16)        2416      \n",
            "                                                                 \n",
            " average_pooling2d_1 (Averag  (None, 6, 6, 16)         0         \n",
            " ePooling2D)                                                     \n",
            "                                                                 \n",
            " flatten (Flatten)           (None, 576)               0         \n",
            "                                                                 \n",
            " dense (Dense)               (None, 120)               69240     \n",
            "                                                                 \n",
            " dropout (Dropout)           (None, 120)               0         \n",
            "                                                                 \n",
            " dense_1 (Dense)             (None, 84)                10164     \n",
            "                                                                 \n",
            " dropout_1 (Dropout)         (None, 84)                0         \n",
            "                                                                 \n",
            " dense_2 (Dense)             (None, 1)                 85        \n",
            "                                                                 \n",
            "=================================================================\n",
            "Total params: 82,061\n",
            "Trainable params: 82,061\n",
            "Non-trainable params: 0\n",
            "_________________________________________________________________\n"
          ]
        }
      ]
    },
    {
      "cell_type": "markdown",
      "source": [
        "###Model training"
      ],
      "metadata": {
        "id": "cAYhqHigItYX"
      }
    },
    {
      "cell_type": "code",
      "source": [
        "history = model.fit_generator(\n",
        "    trainGen,\n",
        "    steps_per_epoch = (100000//96),\n",
        "    validation_data = validGen,\n",
        "    validation_steps = (20000//96),\n",
        "    epochs = 40\n",
        ")"
      ],
      "metadata": {
        "colab": {
          "base_uri": "https://localhost:8080/"
        },
        "id": "OHlEyTC1Oo-n",
        "outputId": "9efd3c23-d0cc-4fdf-dbfb-d2bfc17b9e88"
      },
      "execution_count": null,
      "outputs": [
        {
          "metadata": {
            "tags": null
          },
          "name": "stderr",
          "output_type": "stream",
          "text": [
            "<ipython-input-15-16e40f135953>:1: UserWarning: `Model.fit_generator` is deprecated and will be removed in a future version. Please use `Model.fit`, which supports generators.\n",
            "  history = model.fit_generator(\n",
            "/usr/local/lib/python3.8/dist-packages/keras/preprocessing/image.py:1663: UserWarning: This ImageDataGenerator specifies `featurewise_center`, but it hasn't been fit on any training data. Fit it first by calling `.fit(numpy_data)`.\n",
            "  warnings.warn('This ImageDataGenerator specifies '\n",
            "/usr/local/lib/python3.8/dist-packages/keras/preprocessing/image.py:1671: UserWarning: This ImageDataGenerator specifies `featurewise_std_normalization`, but it hasn't been fit on any training data. Fit it first by calling `.fit(numpy_data)`.\n",
            "  warnings.warn('This ImageDataGenerator specifies '\n"
          ]
        },
        {
          "output_type": "stream",
          "name": "stdout",
          "text": [
            "Epoch 1/40\n",
            "1041/1041 [==============================] - 304s 289ms/step - loss: 0.5806 - accuracy: 0.6911 - val_loss: 0.5318 - val_accuracy: 0.7330\n",
            "Epoch 2/40\n",
            "1041/1041 [==============================] - 285s 274ms/step - loss: 0.5072 - accuracy: 0.7532 - val_loss: 0.4804 - val_accuracy: 0.7702\n",
            "Epoch 3/40\n",
            "1041/1041 [==============================] - 288s 277ms/step - loss: 0.4719 - accuracy: 0.7757 - val_loss: 0.4535 - val_accuracy: 0.7868\n",
            "Epoch 4/40\n",
            "1041/1041 [==============================] - 300s 288ms/step - loss: 0.4439 - accuracy: 0.7935 - val_loss: 0.4388 - val_accuracy: 0.7967\n",
            "Epoch 5/40\n",
            "1041/1041 [==============================] - 287s 276ms/step - loss: 0.4247 - accuracy: 0.8050 - val_loss: 0.4246 - val_accuracy: 0.8081\n",
            "Epoch 6/40\n",
            "1041/1041 [==============================] - 293s 281ms/step - loss: 0.4080 - accuracy: 0.8162 - val_loss: 0.4134 - val_accuracy: 0.8141\n",
            "Epoch 7/40\n",
            "1041/1041 [==============================] - 335s 322ms/step - loss: 0.3953 - accuracy: 0.8219 - val_loss: 0.3992 - val_accuracy: 0.8213\n",
            "Epoch 8/40\n",
            "1041/1041 [==============================] - 310s 298ms/step - loss: 0.3840 - accuracy: 0.8295 - val_loss: 0.3994 - val_accuracy: 0.8222\n",
            "Epoch 9/40\n",
            "1041/1041 [==============================] - 302s 290ms/step - loss: 0.3700 - accuracy: 0.8362 - val_loss: 0.3954 - val_accuracy: 0.8233\n",
            "Epoch 10/40\n",
            "1041/1041 [==============================] - 315s 303ms/step - loss: 0.3612 - accuracy: 0.8419 - val_loss: 0.3960 - val_accuracy: 0.8240\n",
            "Epoch 11/40\n",
            "1041/1041 [==============================] - 304s 292ms/step - loss: 0.3505 - accuracy: 0.8475 - val_loss: 0.3799 - val_accuracy: 0.8318\n",
            "Epoch 12/40\n",
            "1041/1041 [==============================] - 316s 303ms/step - loss: 0.3433 - accuracy: 0.8511 - val_loss: 0.3888 - val_accuracy: 0.8270\n",
            "Epoch 13/40\n",
            "1041/1041 [==============================] - 299s 287ms/step - loss: 0.3358 - accuracy: 0.8542 - val_loss: 0.3712 - val_accuracy: 0.8370\n",
            "Epoch 14/40\n",
            "1041/1041 [==============================] - 313s 301ms/step - loss: 0.3261 - accuracy: 0.8595 - val_loss: 0.3741 - val_accuracy: 0.8336\n",
            "Epoch 15/40\n",
            "1041/1041 [==============================] - 298s 286ms/step - loss: 0.3198 - accuracy: 0.8635 - val_loss: 0.3669 - val_accuracy: 0.8385\n",
            "Epoch 16/40\n",
            "1041/1041 [==============================] - 331s 318ms/step - loss: 0.3137 - accuracy: 0.8670 - val_loss: 0.3814 - val_accuracy: 0.8335\n",
            "Epoch 17/40\n",
            "1041/1041 [==============================] - 295s 283ms/step - loss: 0.3082 - accuracy: 0.8688 - val_loss: 0.3634 - val_accuracy: 0.8416\n",
            "Epoch 18/40\n",
            "1041/1041 [==============================] - 321s 309ms/step - loss: 0.3021 - accuracy: 0.8729 - val_loss: 0.3656 - val_accuracy: 0.8413\n",
            "Epoch 19/40\n",
            "1041/1041 [==============================] - 286s 274ms/step - loss: 0.2956 - accuracy: 0.8749 - val_loss: 0.3630 - val_accuracy: 0.8419\n",
            "Epoch 20/40\n",
            "1041/1041 [==============================] - 320s 308ms/step - loss: 0.2903 - accuracy: 0.8780 - val_loss: 0.3669 - val_accuracy: 0.8423\n",
            "Epoch 21/40\n",
            "1041/1041 [==============================] - 282s 271ms/step - loss: 0.2841 - accuracy: 0.8804 - val_loss: 0.3557 - val_accuracy: 0.8475\n",
            "Epoch 22/40\n",
            "1041/1041 [==============================] - 326s 312ms/step - loss: 0.2793 - accuracy: 0.8825 - val_loss: 0.3619 - val_accuracy: 0.8458\n",
            "Epoch 23/40\n",
            "1041/1041 [==============================] - 296s 285ms/step - loss: 0.2762 - accuracy: 0.8849 - val_loss: 0.3808 - val_accuracy: 0.8344\n",
            "Epoch 24/40\n",
            "1041/1041 [==============================] - 311s 299ms/step - loss: 0.2712 - accuracy: 0.8867 - val_loss: 0.3661 - val_accuracy: 0.8439\n",
            "Epoch 25/40\n",
            "1041/1041 [==============================] - 294s 282ms/step - loss: 0.2674 - accuracy: 0.8882 - val_loss: 0.3557 - val_accuracy: 0.8507\n",
            "Epoch 26/40\n",
            "1041/1041 [==============================] - 316s 304ms/step - loss: 0.2640 - accuracy: 0.8906 - val_loss: 0.3629 - val_accuracy: 0.8450\n",
            "Epoch 27/40\n",
            "1041/1041 [==============================] - 302s 290ms/step - loss: 0.2605 - accuracy: 0.8915 - val_loss: 0.3877 - val_accuracy: 0.8389\n",
            "Epoch 28/40\n",
            "1041/1041 [==============================] - 305s 293ms/step - loss: 0.2576 - accuracy: 0.8931 - val_loss: 0.3640 - val_accuracy: 0.8474\n",
            "Epoch 29/40\n",
            "1041/1041 [==============================] - 313s 301ms/step - loss: 0.2521 - accuracy: 0.8966 - val_loss: 0.3597 - val_accuracy: 0.8522\n",
            "Epoch 30/40\n",
            "1041/1041 [==============================] - 300s 288ms/step - loss: 0.2503 - accuracy: 0.8962 - val_loss: 0.3643 - val_accuracy: 0.8469\n",
            "Epoch 31/40\n",
            "1041/1041 [==============================] - 312s 300ms/step - loss: 0.2507 - accuracy: 0.8961 - val_loss: 0.3676 - val_accuracy: 0.8488\n",
            "Epoch 32/40\n",
            "1041/1041 [==============================] - 301s 289ms/step - loss: 0.2429 - accuracy: 0.9000 - val_loss: 0.3655 - val_accuracy: 0.8482\n",
            "Epoch 33/40\n",
            "1041/1041 [==============================] - 310s 298ms/step - loss: 0.2428 - accuracy: 0.8999 - val_loss: 0.3633 - val_accuracy: 0.8499\n",
            "Epoch 34/40\n",
            "1041/1041 [==============================] - 298s 286ms/step - loss: 0.2389 - accuracy: 0.9024 - val_loss: 0.3724 - val_accuracy: 0.8532\n",
            "Epoch 35/40\n",
            "1041/1041 [==============================] - 328s 315ms/step - loss: 0.2368 - accuracy: 0.9028 - val_loss: 0.3559 - val_accuracy: 0.8555\n",
            "Epoch 36/40\n",
            "1041/1041 [==============================] - 292s 280ms/step - loss: 0.2364 - accuracy: 0.9024 - val_loss: 0.3642 - val_accuracy: 0.8504\n",
            "Epoch 37/40\n",
            "1041/1041 [==============================] - 358s 344ms/step - loss: 0.2316 - accuracy: 0.9051 - val_loss: 0.3607 - val_accuracy: 0.8514\n",
            "Epoch 38/40\n",
            "1041/1041 [==============================] - 291s 280ms/step - loss: 0.2287 - accuracy: 0.9055 - val_loss: 0.3618 - val_accuracy: 0.8533\n",
            "Epoch 39/40\n",
            "1041/1041 [==============================] - 365s 350ms/step - loss: 0.2253 - accuracy: 0.9076 - val_loss: 0.3681 - val_accuracy: 0.8531\n",
            "Epoch 40/40\n",
            "1041/1041 [==============================] - 304s 292ms/step - loss: 0.2241 - accuracy: 0.9075 - val_loss: 0.3588 - val_accuracy: 0.8543\n"
          ]
        }
      ]
    },
    {
      "cell_type": "markdown",
      "source": [
        "###Plot on results"
      ],
      "metadata": {
        "id": "uYfdLk_TI0nM"
      }
    },
    {
      "cell_type": "code",
      "source": [
        "fig, (ax1, ax2) = plt.subplots(1, 2)\n",
        "ax1.plot(history.history[\"accuracy\"])\n",
        "ax1.plot(history.history[\"val_accuracy\"])\n",
        "ax1.title.set_text(\"Model Accuracy\")\n",
        "ax1.set_ylabel(\"Accuracy\")\n",
        "ax1.set_xlabel(\"Epoch\")\n",
        "ax1.legend([\"Train\", \"Valid\"])\n",
        "\n",
        "ax2.plot(history.history[\"loss\"])\n",
        "ax2.plot(history.history[\"val_loss\"])\n",
        "ax2.title.set_text(\"Model loss\")\n",
        "ax2.set_ylabel(\"Loss\")\n",
        "ax2.set_xlabel(\"Epoch\")\n",
        "ax2.legend([\"Train\", \"Valid\"])\n",
        "plt.tight_layout()\n",
        "plt.show()"
      ],
      "metadata": {
        "colab": {
          "base_uri": "https://localhost:8080/",
          "height": 297
        },
        "id": "-9bTuLJvAj-K",
        "outputId": "2ae7a6e4-3f97-45b0-ab95-66a3d35d7341"
      },
      "execution_count": null,
      "outputs": [
        {
          "output_type": "display_data",
          "data": {
            "text/plain": [
              "<Figure size 432x288 with 2 Axes>"
            ],
            "image/png": "[encoded data removed]"
          },
          "metadata": {
            "needs_background": "light"
          }
        }
      ]
    },
    {
      "cell_type": "markdown",
      "source": [
        "###Prediction on the Test data"
      ],
      "metadata": {
        "id": "umRpOVVGI5e0"
      }
    },
    {
      "cell_type": "code",
      "source": [
        "xTest = model.predict(testGen)\n",
        "yTest = testGen.classes"
      ],
      "metadata": {
        "colab": {
          "base_uri": "https://localhost:8080/"
        },
        "id": "GXaDCHIiAoZP",
        "outputId": "25c163a9-63aa-454b-db1f-e6b49806f834"
      },
      "execution_count": null,
      "outputs": [
        {
          "output_type": "stream",
          "name": "stderr",
          "text": [
            "/usr/local/lib/python3.8/dist-packages/keras/preprocessing/image.py:1663: UserWarning: This ImageDataGenerator specifies `featurewise_center`, but it hasn't been fit on any training data. Fit it first by calling `.fit(numpy_data)`.\n",
            "  warnings.warn('This ImageDataGenerator specifies '\n",
            "/usr/local/lib/python3.8/dist-packages/keras/preprocessing/image.py:1671: UserWarning: This ImageDataGenerator specifies `featurewise_std_normalization`, but it hasn't been fit on any training data. Fit it first by calling `.fit(numpy_data)`.\n",
            "  warnings.warn('This ImageDataGenerator specifies '\n"
          ]
        },
        {
          "output_type": "stream",
          "name": "stdout",
          "text": [
            "209/209 [==============================] - 44s 209ms/step\n"
          ]
        }
      ]
    },
    {
      "cell_type": "code",
      "source": [
        "print(\"ROC-AUC Score:\", roc_auc_score(yTest, xTest))\n",
        "print(\"AP Score:\", average_precision_score(yTest, xTest))"
      ],
      "metadata": {
        "colab": {
          "base_uri": "https://localhost:8080/"
        },
        "id": "HNe4dRMZA5aL",
        "outputId": "a030cd94-8071-4731-9053-7422ffed982f"
      },
      "execution_count": null,
      "outputs": [
        {
          "output_type": "stream",
          "name": "stdout",
          "text": [
            "ROC-AUC Score: 0.933484595\n",
            "AP Score: 0.9301818749737547\n"
          ]
        }
      ]
    },
    {
      "cell_type": "markdown",
      "source": [
        "###Confusion Matrix"
      ],
      "metadata": {
        "id": "wY22uHk9I-I_"
      }
    },
    {
      "cell_type": "code",
      "source": [
        "cm = confusion_matrix(yTest, xTest.round())\n",
        "disp = ConfusionMatrixDisplay(confusion_matrix=cm)\n",
        "disp.plot()\n",
        "plt.show()"
      ],
      "metadata": {
        "colab": {
          "base_uri": "https://localhost:8080/",
          "height": 279
        },
        "id": "VOpzTTveG3qy",
        "outputId": "80be186a-05bf-4150-8678-e889f69ed0c6"
      },
      "execution_count": null,
      "outputs": [
        {
          "output_type": "display_data",
          "data": {
            "text/plain": [
              "<Figure size 432x288 with 2 Axes>"
            ],
            "image/png": "[encoded data removed]"
          },
          "metadata": {
            "needs_background": "light"
          }
        }
      ]
    },
    {
      "cell_type": "markdown",
      "source": [
        "###Test results"
      ],
      "metadata": {
        "id": "SiYknv0eJtGp"
      }
    },
    {
      "cell_type": "code",
      "source": [
        "print(classification_report(yTest, xTest > 0.5))"
      ],
      "metadata": {
        "colab": {
          "base_uri": "https://localhost:8080/"
        },
        "id": "K7-rsMfSA8Gf",
        "outputId": "40c25f19-b611-4bec-9f63-1b3f4505ea09"
      },
      "execution_count": null,
      "outputs": [
        {
          "output_type": "stream",
          "name": "stdout",
          "text": [
            "              precision    recall  f1-score   support\n",
            "\n",
            "           0       0.85      0.87      0.86     10000\n",
            "           1       0.87      0.85      0.86     10000\n",
            "\n",
            "    accuracy                           0.86     20000\n",
            "   macro avg       0.86      0.86      0.86     20000\n",
            "weighted avg       0.86      0.86      0.86     20000\n",
            "\n"
          ]
        }
      ]
    }
  ]
}