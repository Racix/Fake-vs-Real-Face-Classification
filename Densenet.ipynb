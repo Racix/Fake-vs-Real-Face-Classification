{
  "nbformat": 4,
  "nbformat_minor": 0,
  "metadata": {
    "colab": {
      "provenance": []
    },
    "kernelspec": {
      "name": "python3",
      "display_name": "Python 3"
    },
    "language_info": {
      "name": "python"
    }
  },
  "cells": [
    {
      "cell_type": "markdown",
      "source": [
        "# **Miniproject - fake/real faces classifications using CNN**"
      ],
      "metadata": {
        "id": "gN5_wlHRcxO-"
      }
    },
    {
      "cell_type": "code",
      "source": [
        "import pandas as pd\n"
      ],
      "metadata": {
        "id": "6P4CNNvypJwq"
      },
      "execution_count": 1,
      "outputs": []
    },
    {
      "cell_type": "code",
      "execution_count": 2,
      "metadata": {
        "id": "Odyh-hyzRBOY"
      },
      "outputs": [],
      "source": [
        "! pip install -q kaggle"
      ]
    },
    {
      "cell_type": "code",
      "source": [
        "from google.colab import files\n",
        "files.upload()"
      ],
      "metadata": {
        "colab": {
          "base_uri": "https://localhost:8080/",
          "height": 90
        },
        "id": "iPNqxuAnnDd0",
        "outputId": "d2f2cd88-09fe-4e81-d993-7e78a82bdf0d"
      },
      "execution_count": 3,
      "outputs": [
        {
          "output_type": "display_data",
          "data": {
            "text/plain": [
              "<IPython.core.display.HTML object>"
            ],
            "text/html": [
              "\n",
              "     <input type=\"file\" id=\"files-558d9f5f-2a7a-40cf-916d-a6749a92b765\" name=\"files[]\" multiple disabled\n",
              "        style=\"border:none\" />\n",
              "     <output id=\"result-558d9f5f-2a7a-40cf-916d-a6749a92b765\">\n",
              "      Upload widget is only available when the cell has been executed in the\n",
              "      current browser session. Please rerun this cell to enable.\n",
              "      </output>\n",
              "      <script>// Copyright 2017 Google LLC\n",
              "//\n",
              "// Licensed under the Apache License, Version 2.0 (the \"License\");\n",
              "// you may not use this file except in compliance with the License.\n",
              "// You may obtain a copy of the License at\n",
              "//\n",
              "//      http://www.apache.org/licenses/LICENSE-2.0\n",
              "//\n",
              "// Unless required by applicable law or agreed to in writing, software\n",
              "// distributed under the License is distributed on an \"AS IS\" BASIS,\n",
              "// WITHOUT WARRANTIES OR CONDITIONS OF ANY KIND, either express or implied.\n",
              "// See the License for the specific language governing permissions and\n",
              "// limitations under the License.\n",
              "\n",
              "/**\n",
              " * @fileoverview Helpers for google.colab Python module.\n",
              " */\n",
              "(function(scope) {\n",
              "function span(text, styleAttributes = {}) {\n",
              "  const element = document.createElement('span');\n",
              "  element.textContent = text;\n",
              "  for (const key of Object.keys(styleAttributes)) {\n",
              "    element.style[key] = styleAttributes[key];\n",
              "  }\n",
              "  return element;\n",
              "}\n",
              "\n",
              "// Max number of bytes which will be uploaded at a time.\n",
              "const MAX_PAYLOAD_SIZE = 100 * 1024;\n",
              "\n",
              "function _uploadFiles(inputId, outputId) {\n",
              "  const steps = uploadFilesStep(inputId, outputId);\n",
              "  const outputElement = document.getElementById(outputId);\n",
              "  // Cache steps on the outputElement to make it available for the next call\n",
              "  // to uploadFilesContinue from Python.\n",
              "  outputElement.steps = steps;\n",
              "\n",
              "  return _uploadFilesContinue(outputId);\n",
              "}\n",
              "\n",
              "// This is roughly an async generator (not supported in the browser yet),\n",
              "// where there are multiple asynchronous steps and the Python side is going\n",
              "// to poll for completion of each step.\n",
              "// This uses a Promise to block the python side on completion of each step,\n",
              "// then passes the result of the previous step as the input to the next step.\n",
              "function _uploadFilesContinue(outputId) {\n",
              "  const outputElement = document.getElementById(outputId);\n",
              "  const steps = outputElement.steps;\n",
              "\n",
              "  const next = steps.next(outputElement.lastPromiseValue);\n",
              "  return Promise.resolve(next.value.promise).then((value) => {\n",
              "    // Cache the last promise value to make it available to the next\n",
              "    // step of the generator.\n",
              "    outputElement.lastPromiseValue = value;\n",
              "    return next.value.response;\n",
              "  });\n",
              "}\n",
              "\n",
              "/**\n",
              " * Generator function which is called between each async step of the upload\n",
              " * process.\n",
              " * @param {string} inputId Element ID of the input file picker element.\n",
              " * @param {string} outputId Element ID of the output display.\n",
              " * @return {!Iterable<!Object>} Iterable of next steps.\n",
              " */\n",
              "function* uploadFilesStep(inputId, outputId) {\n",
              "  const inputElement = document.getElementById(inputId);\n",
              "  inputElement.disabled = false;\n",
              "\n",
              "  const outputElement = document.getElementById(outputId);\n",
              "  outputElement.innerHTML = '';\n",
              "\n",
              "  const pickedPromise = new Promise((resolve) => {\n",
              "    inputElement.addEventListener('change', (e) => {\n",
              "      resolve(e.target.files);\n",
              "    });\n",
              "  });\n",
              "\n",
              "  const cancel = document.createElement('button');\n",
              "  inputElement.parentElement.appendChild(cancel);\n",
              "  cancel.textContent = 'Cancel upload';\n",
              "  const cancelPromise = new Promise((resolve) => {\n",
              "    cancel.onclick = () => {\n",
              "      resolve(null);\n",
              "    };\n",
              "  });\n",
              "\n",
              "  // Wait for the user to pick the files.\n",
              "  const files = yield {\n",
              "    promise: Promise.race([pickedPromise, cancelPromise]),\n",
              "    response: {\n",
              "      action: 'starting',\n",
              "    }\n",
              "  };\n",
              "\n",
              "  cancel.remove();\n",
              "\n",
              "  // Disable the input element since further picks are not allowed.\n",
              "  inputElement.disabled = true;\n",
              "\n",
              "  if (!files) {\n",
              "    return {\n",
              "      response: {\n",
              "        action: 'complete',\n",
              "      }\n",
              "    };\n",
              "  }\n",
              "\n",
              "  for (const file of files) {\n",
              "    const li = document.createElement('li');\n",
              "    li.append(span(file.name, {fontWeight: 'bold'}));\n",
              "    li.append(span(\n",
              "        `(${file.type || 'n/a'}) - ${file.size} bytes, ` +\n",
              "        `last modified: ${\n",
              "            file.lastModifiedDate ? file.lastModifiedDate.toLocaleDateString() :\n",
              "                                    'n/a'} - `));\n",
              "    const percent = span('0% done');\n",
              "    li.appendChild(percent);\n",
              "\n",
              "    outputElement.appendChild(li);\n",
              "\n",
              "    const fileDataPromise = new Promise((resolve) => {\n",
              "      const reader = new FileReader();\n",
              "      reader.onload = (e) => {\n",
              "        resolve(e.target.result);\n",
              "      };\n",
              "      reader.readAsArrayBuffer(file);\n",
              "    });\n",
              "    // Wait for the data to be ready.\n",
              "    let fileData = yield {\n",
              "      promise: fileDataPromise,\n",
              "      response: {\n",
              "        action: 'continue',\n",
              "      }\n",
              "    };\n",
              "\n",
              "    // Use a chunked sending to avoid message size limits. See b/62115660.\n",
              "    let position = 0;\n",
              "    do {\n",
              "      const length = Math.min(fileData.byteLength - position, MAX_PAYLOAD_SIZE);\n",
              "      const chunk = new Uint8Array(fileData, position, length);\n",
              "      position += length;\n",
              "\n",
              "      const base64 = btoa(String.fromCharCode.apply(null, chunk));\n",
              "      yield {\n",
              "        response: {\n",
              "          action: 'append',\n",
              "          file: file.name,\n",
              "          data: base64,\n",
              "        },\n",
              "      };\n",
              "\n",
              "      let percentDone = fileData.byteLength === 0 ?\n",
              "          100 :\n",
              "          Math.round((position / fileData.byteLength) * 100);\n",
              "      percent.textContent = `${percentDone}% done`;\n",
              "\n",
              "    } while (position < fileData.byteLength);\n",
              "  }\n",
              "\n",
              "  // All done.\n",
              "  yield {\n",
              "    response: {\n",
              "      action: 'complete',\n",
              "    }\n",
              "  };\n",
              "}\n",
              "\n",
              "scope.google = scope.google || {};\n",
              "scope.google.colab = scope.google.colab || {};\n",
              "scope.google.colab._files = {\n",
              "  _uploadFiles,\n",
              "  _uploadFilesContinue,\n",
              "};\n",
              "})(self);\n",
              "</script> "
            ]
          },
          "metadata": {}
        },
        {
          "output_type": "stream",
          "name": "stdout",
          "text": [
            "Saving kaggle.json to kaggle.json\n"
          ]
        },
        {
          "output_type": "execute_result",
          "data": {
            "text/plain": [
              "{'kaggle.json': b'{\"username\":\"claudehallard\",\"key\":\"6570efbb31846c362442bf200cf1f551\"}'}"
            ]
          },
          "metadata": {},
          "execution_count": 3
        }
      ]
    },
    {
      "cell_type": "code",
      "source": [
        "! mkdir ~/.kaggle\n",
        "! cp kaggle.json ~/.kaggle/"
      ],
      "metadata": {
        "id": "IdWsVJv_nMSr"
      },
      "execution_count": 4,
      "outputs": []
    },
    {
      "cell_type": "code",
      "source": [
        "! chmod 600 ~/.kaggle/kaggle.json"
      ],
      "metadata": {
        "id": "UVDRtjr4nS2h"
      },
      "execution_count": 5,
      "outputs": []
    },
    {
      "cell_type": "code",
      "source": [
        "! kaggle datasets list"
      ],
      "metadata": {
        "id": "VHDJMUuEnUQa",
        "colab": {
          "base_uri": "https://localhost:8080/"
        },
        "outputId": "11b24f32-52ed-485f-8f40-64292745c611"
      },
      "execution_count": 6,
      "outputs": [
        {
          "output_type": "stream",
          "name": "stdout",
          "text": [
            "ref                                                           title                                               size  lastUpdated          downloadCount  voteCount  usabilityRating  \n",
            "------------------------------------------------------------  -------------------------------------------------  -----  -------------------  -------------  ---------  ---------------  \n",
            "meirnizri/covid19-dataset                                     COVID-19 Dataset                                     5MB  2022-11-13 15:47:17          14940        423  1.0              \n",
            "devrimtuner/list-of-moststreamed-songs-on-spotify             Top 100 Spotify Songs👑🎤🎧🎼                            3KB  2022-12-30 05:42:54            319         26  1.0              \n",
            "thedevastator/analyzing-credit-card-spending-habits-in-india  Credit Card Spending Habits in India               319KB  2022-12-14 07:30:37           1513         51  1.0              \n",
            "die9origephit/fifa-world-cup-2022-complete-dataset            Fifa World Cup 2022: Complete Dataset                7KB  2022-12-18 22:51:11           3126        111  1.0              \n",
            "michals22/coffee-dataset                                      Coffee dataset                                      24KB  2022-12-15 20:02:12           3632         82  1.0              \n",
            "heemalichaudhari/netflix-movies-and-series                    Netflix Movies and Series                            2MB  2022-12-22 13:34:22           1027         30  0.8235294        \n",
            "sejungjenn/spotify-best-songs-of-2022                         Spotify: Winner Tracks Audio Features🎹              38KB  2022-12-28 08:06:49            259         21  1.0              \n",
            "thedevastator/unlock-profits-with-e-commerce-sales-data       E-Commerce Sales Dataset                             6MB  2022-12-03 09:27:17           2887         71  1.0              \n",
            "aklimarimi/qs-world-ranked-universities-20182022              QS World ranked Universities (2018-2022)            51KB  2022-12-28 03:53:39            463         28  1.0              \n",
            "rajeshrampure/black-friday-sale                               Black Friday Sale                                    5MB  2022-12-24 09:37:49            824         28  1.0              \n",
            "devrimtuner/highestpaid-athletes                              HIGHEST-PAID ATHLETES⚽️🏀🏈⚾️🥎🎾                        1KB  2022-12-29 01:29:51            267         25  1.0              \n",
            "heemalichaudhari/shopping                                     Shopping                                            12KB  2022-12-26 14:25:07            359         22  0.9411765        \n",
            "milanvaddoriya/old-car-price-prediction                       Old car price prediction                           105KB  2022-12-24 15:38:56            369         27  1.0              \n",
            "thedevastator/how-does-daily-yoga-impact-screen-time-habits   How Does Daily Yoga Impact Screen Time Habits       742B  2022-12-14 04:10:56            585         21  1.0              \n",
            "thedevastator/uncovering-factors-that-affect-used-car-prices  Used Cars                                           18MB  2022-12-06 13:36:08           1022         31  1.0              \n",
            "devrimtuner/list-of-mostfollowed-instagram-accounts           (TOP 50)List of most-followed Instagram accounts👑    2KB  2022-12-30 07:52:00            312         25  1.0              \n",
            "thedevastator/jobs-dataset-from-glassdoor                     Salary Prediction                                    3MB  2022-11-16 13:52:31           8343        178  1.0              \n",
            "dansbecker/melbourne-housing-snapshot                         Melbourne Housing Snapshot                         451KB  2018-06-05 12:52:24         103259       1188  0.7058824        \n",
            "mattop/best-selling-game-boy-video-games                      Best Selling Game Boy Video Games                    2KB  2022-12-17 18:41:38            369         27  0.9705882        \n",
            "rajeshrampure/zomato-dataset                                  Zomato Dataset                                      89MB  2022-12-23 07:38:07            508         28  1.0              \n"
          ]
        }
      ]
    },
    {
      "cell_type": "code",
      "source": [
        "!kaggle datasets download -d xhlulu/140k-real-and-fake-faces"
      ],
      "metadata": {
        "colab": {
          "base_uri": "https://localhost:8080/"
        },
        "id": "5H0t-ZI1oalk",
        "outputId": "98e61f2d-b5b9-4704-f66f-e45c69012060"
      },
      "execution_count": 7,
      "outputs": [
        {
          "output_type": "stream",
          "name": "stdout",
          "text": [
            "Downloading 140k-real-and-fake-faces.zip to /content\n",
            "100% 3.75G/3.75G [01:56<00:00, 41.4MB/s]\n",
            "100% 3.75G/3.75G [01:56<00:00, 34.5MB/s]\n"
          ]
        }
      ]
    },
    {
      "cell_type": "code",
      "source": [
        "!unzip 140k-real-and-fake-faces.zip"
      ],
      "metadata": {
        "id": "oTF1QBjqogC0"
      },
      "execution_count": null,
      "outputs": []
    },
    {
      "cell_type": "code",
      "source": [
        "df_train = pd.read_csv('train.csv',index_col=0)\n",
        "df_val = pd.read_csv('valid.csv',index_col=0)\n",
        "df_test = pd.read_csv('test.csv',index_col=0)"
      ],
      "metadata": {
        "id": "ypmBSlC_o_NG"
      },
      "execution_count": 9,
      "outputs": []
    },
    {
      "cell_type": "markdown",
      "source": [
        "## **Load data**"
      ],
      "metadata": {
        "id": "4bb0tgOpKTUs"
      }
    },
    {
      "cell_type": "code",
      "source": [
        "import numpy as np # linear algebra\n",
        "import matplotlib.pyplot as plt\n",
        "import tensorflow as tf\n",
        "from tensorflow.keras.models import Sequential\n",
        "from tensorflow.keras.layers import Dense, Dropout, Activation, Flatten, Conv2D, MaxPooling2D, GlobalAveragePooling2D\n",
        "from tensorflow.keras.applications import DenseNet121\n",
        "from tensorflow.keras.preprocessing.image import ImageDataGenerator\n",
        "from sklearn.metrics import classification_report, confusion_matrix, ConfusionMatrixDisplay\n",
        "\n",
        "path = \"real_vs_fake/real-vs-fake\"\n",
        "\n",
        "datagen = ImageDataGenerator(rescale=1./255, zca_whitening = True, horizontal_flip=True)\n",
        "training_set = datagen.flow_from_directory(path + '/train',\n",
        "                                           class_mode='binary',\n",
        "                                           shuffle = True,\n",
        "                                           target_size=(32,32),\n",
        "                                           batch_size = 96\n",
        "                                          )\n",
        "test_set = datagen.flow_from_directory(path + '/test',\n",
        "                                       class_mode='binary',\n",
        "                                       shuffle = False,\n",
        "                                       target_size=(32,32),\n",
        "                                       batch_size = 96\n",
        "                                       )\n",
        "validation_set = datagen.flow_from_directory(path + '/valid',\n",
        "                                        class_mode='binary',\n",
        "                                        shuffle = False,\n",
        "                                        target_size=(32,32),\n",
        "                                        batch_size = 96\n",
        "                                            )"
      ],
      "metadata": {
        "colab": {
          "base_uri": "https://localhost:8080/"
        },
        "id": "GSAmJrUkpeci",
        "outputId": "1fcd69e0-ba70-4f69-f89d-1e95a0e786d8"
      },
      "execution_count": null,
      "outputs": [
        {
          "output_type": "stream",
          "name": "stderr",
          "text": [
            "/usr/local/lib/python3.8/dist-packages/keras/preprocessing/image.py:1285: UserWarning: This ImageDataGenerator specifies `zca_whitening`, which overrides setting of `featurewise_center`.\n",
            "  warnings.warn('This ImageDataGenerator specifies '\n"
          ]
        },
        {
          "output_type": "stream",
          "name": "stdout",
          "text": [
            "Found 100000 images belonging to 2 classes.\n",
            "Found 20000 images belonging to 2 classes.\n",
            "Found 20000 images belonging to 2 classes.\n"
          ]
        }
      ]
    },
    {
      "cell_type": "markdown",
      "source": [
        "# **CNN densenet model using pretrained weights, learning rate 0.001. (This one actually has around 9 epochs because of an interrupt when running)**"
      ],
      "metadata": {
        "id": "xCkskvn7NwzD"
      }
    },
    {
      "cell_type": "markdown",
      "source": [],
      "metadata": {
        "id": "t4qPj-XMKovc"
      }
    },
    {
      "cell_type": "code",
      "source": [
        "# DenseNet121 parameter weights lets you use pre-trained weights from the imagenet dataset\n",
        "densenet = DenseNet121(weights='imagenet', include_top = False, input_shape=(32,32,3))\n",
        "\n",
        "model = Sequential([densenet,\n",
        "                    GlobalAveragePooling2D(),\n",
        "                    Dense(1, activation='sigmoid')])\n",
        "model.compile(loss='binary_crossentropy',optimizer='adam', metrics=['accuracy'])\n",
        "model.summary()"
      ],
      "metadata": {
        "id": "ngMwLdXlq0LV",
        "colab": {
          "base_uri": "https://localhost:8080/"
        },
        "outputId": "0b27628f-0b0f-445f-a677-83945ac53bbc"
      },
      "execution_count": null,
      "outputs": [
        {
          "output_type": "stream",
          "name": "stdout",
          "text": [
            "Downloading data from https://storage.googleapis.com/tensorflow/keras-applications/densenet/densenet121_weights_tf_dim_ordering_tf_kernels_notop.h5\n",
            "29084464/29084464 [==============================] - 0s 0us/step\n",
            "Model: \"sequential\"\n",
            "_________________________________________________________________\n",
            " Layer (type)                Output Shape              Param #   \n",
            "=================================================================\n",
            " densenet121 (Functional)    (None, 1, 1, 1024)        7037504   \n",
            "                                                                 \n",
            " global_average_pooling2d (G  (None, 1024)             0         \n",
            " lobalAveragePooling2D)                                          \n",
            "                                                                 \n",
            " dense (Dense)               (None, 1)                 1025      \n",
            "                                                                 \n",
            "=================================================================\n",
            "Total params: 7,038,529\n",
            "Trainable params: 6,954,881\n",
            "Non-trainable params: 83,648\n",
            "_________________________________________________________________\n"
          ]
        }
      ]
    },
    {
      "cell_type": "code",
      "source": [
        "history = model.fit(training_set,\n",
        "          steps_per_epoch=(100000/96),\n",
        "          validation_data=validation_set,\n",
        "          validation_steps = (20000/96),\n",
        "          epochs= 5)"
      ],
      "metadata": {
        "colab": {
          "base_uri": "https://localhost:8080/"
        },
        "id": "9wcpfvquq5lT",
        "outputId": "7d445cfa-c67c-42a5-c444-5c73a1764435"
      },
      "execution_count": null,
      "outputs": [
        {
          "output_type": "stream",
          "name": "stderr",
          "text": [
            "/usr/local/lib/python3.8/dist-packages/keras/preprocessing/image.py:1663: UserWarning: This ImageDataGenerator specifies `featurewise_center`, but it hasn't been fit on any training data. Fit it first by calling `.fit(numpy_data)`.\n",
            "  warnings.warn('This ImageDataGenerator specifies '\n",
            "/usr/local/lib/python3.8/dist-packages/keras/preprocessing/image.py:1682: UserWarning: This ImageDataGenerator specifies `zca_whitening`, but it hasn't been fit on any training data. Fit it first by calling `.fit(numpy_data)`.\n",
            "  warnings.warn('This ImageDataGenerator specifies '\n"
          ]
        },
        {
          "output_type": "stream",
          "name": "stdout",
          "text": [
            "Epoch 1/5\n",
            "1041/1041 [==============================] - 2088s 2s/step - loss: 0.4577 - accuracy: 0.7830 - val_loss: 0.4922 - val_accuracy: 0.7643\n",
            "Epoch 2/5\n",
            "1041/1041 [==============================] - 2131s 2s/step - loss: 0.3393 - accuracy: 0.8514 - val_loss: 0.3754 - val_accuracy: 0.8328\n",
            "Epoch 3/5\n",
            "1041/1041 [==============================] - 2123s 2s/step - loss: 0.2903 - accuracy: 0.8764 - val_loss: 0.3745 - val_accuracy: 0.8372\n",
            "Epoch 4/5\n",
            "1041/1041 [==============================] - 2160s 2s/step - loss: 0.2491 - accuracy: 0.8968 - val_loss: 0.3755 - val_accuracy: 0.8453\n",
            "Epoch 5/5\n",
            "1041/1041 [==============================] - 2161s 2s/step - loss: 0.2725 - accuracy: 0.8852 - val_loss: 0.3213 - val_accuracy: 0.8644\n"
          ]
        }
      ]
    },
    {
      "cell_type": "code",
      "source": [
        "fig, (ax1, ax2) = plt.subplots(1, 2)\n",
        "ax1.plot(history.history[\"accuracy\"])\n",
        "ax1.plot(history.history[\"val_accuracy\"])\n",
        "ax1.title.set_text(\"Model Accuracy\")\n",
        "ax1.set_ylabel(\"Accuracy\")\n",
        "ax1.set_xlabel(\"Epoch\")\n",
        "ax1.legend([\"Train\", \"Valid\"])\n",
        "\n",
        "ax2.plot(history.history[\"loss\"])\n",
        "ax2.plot(history.history[\"val_loss\"])\n",
        "ax2.title.set_text(\"Model loss\")\n",
        "ax2.set_ylabel(\"Loss\")\n",
        "ax2.set_xlabel(\"Epoch\")\n",
        "ax2.legend([\"Train\", \"Valid\"])\n",
        "plt.tight_layout()\n",
        "plt.show()"
      ],
      "metadata": {
        "colab": {
          "base_uri": "https://localhost:8080/",
          "height": 297
        },
        "id": "qy-x6WsyQV98",
        "outputId": "0b8f333b-b1ee-4191-a1ff-d93000892d00"
      },
      "execution_count": null,
      "outputs": [
        {
          "output_type": "display_data",
          "data": {
            "text/plain": [
              "<Figure size 432x288 with 2 Axes>"
            ],
            "image/png": "[encoded data removed]"
          },
          "metadata": {
            "needs_background": "light"
          }
        }
      ]
    },
    {
      "cell_type": "code",
      "source": [
        "xTest = model.predict(test_set)\n",
        "yTest = test_set.classes"
      ],
      "metadata": {
        "colab": {
          "base_uri": "https://localhost:8080/"
        },
        "id": "rTVrg92SU7B8",
        "outputId": "e0de2701-e862-45da-9164-92c2e64485b0"
      },
      "execution_count": null,
      "outputs": [
        {
          "output_type": "stream",
          "name": "stdout",
          "text": [
            "209/209 [==============================] - 102s 473ms/step\n"
          ]
        }
      ]
    },
    {
      "cell_type": "code",
      "source": [
        "print(classification_report(yTest, xTest > 0.5))"
      ],
      "metadata": {
        "colab": {
          "base_uri": "https://localhost:8080/"
        },
        "id": "sK_RJF8fVOsl",
        "outputId": "e18d151b-fb03-43ba-9bdf-405438ac44a8"
      },
      "execution_count": null,
      "outputs": [
        {
          "output_type": "stream",
          "name": "stdout",
          "text": [
            "              precision    recall  f1-score   support\n",
            "\n",
            "           0       0.82      0.93      0.87     10000\n",
            "           1       0.92      0.79      0.85     10000\n",
            "\n",
            "    accuracy                           0.86     20000\n",
            "   macro avg       0.87      0.86      0.86     20000\n",
            "weighted avg       0.87      0.86      0.86     20000\n",
            "\n"
          ]
        }
      ]
    },
    {
      "cell_type": "code",
      "source": [
        "cm = confusion_matrix(yTest, xTest.round())\n",
        "disp = ConfusionMatrixDisplay(confusion_matrix=cm)\n",
        "disp.plot()\n",
        "plt.show()"
      ],
      "metadata": {
        "colab": {
          "base_uri": "https://localhost:8080/",
          "height": 279
        },
        "id": "jQNpRSkDS2gK",
        "outputId": "50713813-d741-464b-bb24-2afaa8a59e4e"
      },
      "execution_count": null,
      "outputs": [
        {
          "output_type": "display_data",
          "data": {
            "text/plain": [
              "<Figure size 432x288 with 2 Axes>"
            ],
            "image/png": "[encoded data removed]"
          },
          "metadata": {
            "needs_background": "light"
          }
        }
      ]
    },
    {
      "cell_type": "markdown",
      "source": [
        "## **1.1 CNN densenet model without pretrained weights**"
      ],
      "metadata": {
        "id": "u8Sghg1HWRpk"
      }
    },
    {
      "cell_type": "code",
      "source": [
        "datagen1 = ImageDataGenerator(rescale=1./255, zca_whitening = True, horizontal_flip=True)\n",
        "training_set1 = datagen1.flow_from_directory(path + '/train',\n",
        "                                           class_mode='binary',\n",
        "                                           shuffle = True,\n",
        "                                           target_size=(32,32),\n",
        "                                           batch_size = 96\n",
        "                                          )\n",
        "test_set1 = datagen1.flow_from_directory(path + '/test',\n",
        "                                       class_mode='binary',\n",
        "                                       shuffle = False,\n",
        "                                       target_size=(32,32),\n",
        "                                       batch_size = 96\n",
        "                                       )\n",
        "validation_set1 = datagen1.flow_from_directory(path + '/valid',\n",
        "                                        class_mode='binary',\n",
        "                                        shuffle = False,\n",
        "                                        target_size=(32,32),\n",
        "                                        batch_size = 96\n",
        "                                            )"
      ],
      "metadata": {
        "colab": {
          "base_uri": "https://localhost:8080/"
        },
        "id": "zMDnT0c4f0D_",
        "outputId": "9dfa1999-db49-4380-bf9e-5a72aafb757a"
      },
      "execution_count": null,
      "outputs": [
        {
          "output_type": "stream",
          "name": "stdout",
          "text": [
            "Found 100000 images belonging to 2 classes.\n",
            "Found 20000 images belonging to 2 classes.\n",
            "Found 20000 images belonging to 2 classes.\n"
          ]
        }
      ]
    },
    {
      "cell_type": "code",
      "source": [
        "# DenseNet121 parameter weights lets you use pre-trained weights from the imagenet dataset\n",
        "densenet1 = DenseNet121(weights=None, include_top = False, input_shape=(32,32,3))\n",
        "\n",
        "model1 = Sequential([densenet1,\n",
        "                    GlobalAveragePooling2D(),\n",
        "                    Dense(1, activation='sigmoid')])\n",
        "model1.compile(loss='binary_crossentropy',optimizer='adam', metrics=['accuracy'])\n",
        "model1.summary()"
      ],
      "metadata": {
        "colab": {
          "base_uri": "https://localhost:8080/"
        },
        "id": "sf2zmF3HYwZj",
        "outputId": "57835a59-ac4d-4e18-9a7f-78c162d4573f"
      },
      "execution_count": null,
      "outputs": [
        {
          "output_type": "stream",
          "name": "stdout",
          "text": [
            "Model: \"sequential\"\n",
            "_________________________________________________________________\n",
            " Layer (type)                Output Shape              Param #   \n",
            "=================================================================\n",
            " densenet121 (Functional)    (None, 1, 1, 1024)        7037504   \n",
            "                                                                 \n",
            " global_average_pooling2d (G  (None, 1024)             0         \n",
            " lobalAveragePooling2D)                                          \n",
            "                                                                 \n",
            " dense (Dense)               (None, 1)                 1025      \n",
            "                                                                 \n",
            "=================================================================\n",
            "Total params: 7,038,529\n",
            "Trainable params: 6,954,881\n",
            "Non-trainable params: 83,648\n",
            "_________________________________________________________________\n"
          ]
        }
      ]
    },
    {
      "cell_type": "code",
      "source": [
        "history1 = model1.fit(training_set1,\n",
        "          steps_per_epoch=(100000/100),\n",
        "          validation_data=validation_set,\n",
        "          validation_steps = (20000/100),\n",
        "          epochs= 5)"
      ],
      "metadata": {
        "colab": {
          "base_uri": "https://localhost:8080/"
        },
        "id": "pC9h9vLQY4X_",
        "outputId": "cc276bc3-d794-49f3-c873-5cb9b1abcbec"
      },
      "execution_count": null,
      "outputs": [
        {
          "output_type": "stream",
          "name": "stderr",
          "text": [
            "/usr/local/lib/python3.8/dist-packages/keras/preprocessing/image.py:1663: UserWarning: This ImageDataGenerator specifies `featurewise_center`, but it hasn't been fit on any training data. Fit it first by calling `.fit(numpy_data)`.\n",
            "  warnings.warn('This ImageDataGenerator specifies '\n",
            "/usr/local/lib/python3.8/dist-packages/keras/preprocessing/image.py:1682: UserWarning: This ImageDataGenerator specifies `zca_whitening`, but it hasn't been fit on any training data. Fit it first by calling `.fit(numpy_data)`.\n",
            "  warnings.warn('This ImageDataGenerator specifies '\n"
          ]
        },
        {
          "output_type": "stream",
          "name": "stdout",
          "text": [
            "Epoch 1/5\n",
            "1000/1000 [==============================] - 2083s 2s/step - loss: 0.7192 - accuracy: 0.4811 - val_loss: 0.7547 - val_accuracy: 0.4792\n",
            "Epoch 2/5\n",
            "1000/1000 [==============================] - 2117s 2s/step - loss: 0.7162 - accuracy: 0.4692 - val_loss: 3.3391 - val_accuracy: 0.4792\n",
            "Epoch 3/5\n",
            "1000/1000 [==============================] - 2127s 2s/step - loss: 0.7187 - accuracy: 0.5077 - val_loss: 0.8390 - val_accuracy: 0.5183\n",
            "Epoch 4/5\n",
            "1000/1000 [==============================] - 2129s 2s/step - loss: 0.7092 - accuracy: 0.5108 - val_loss: 0.7288 - val_accuracy: 0.4787\n",
            "Epoch 5/5\n",
            "1000/1000 [==============================] - 2130s 2s/step - loss: 0.7115 - accuracy: 0.4882 - val_loss: 0.8768 - val_accuracy: 0.5261\n"
          ]
        }
      ]
    },
    {
      "cell_type": "code",
      "source": [
        "fig, (ax1, ax2) = plt.subplots(1, 2)\n",
        "ax1.plot(history1.history[\"accuracy\"])\n",
        "ax1.plot(history1.history[\"val_accuracy\"])\n",
        "ax1.title.set_text(\"Model Accuracy\")\n",
        "ax1.set_ylabel(\"Accuracy\")\n",
        "ax1.set_xlabel(\"Epoch\")\n",
        "ax1.legend([\"Train\", \"Valid\"])\n",
        "\n",
        "ax2.plot(history1.history[\"loss\"])\n",
        "ax2.plot(history1.history[\"val_loss\"])\n",
        "ax2.title.set_text(\"Model loss\")\n",
        "ax2.set_ylabel(\"Loss\")\n",
        "ax2.set_xlabel(\"Epoch\")\n",
        "ax2.legend([\"Train\", \"Valid\"])\n",
        "plt.tight_layout()\n",
        "plt.show()"
      ],
      "metadata": {
        "colab": {
          "base_uri": "https://localhost:8080/",
          "height": 297
        },
        "id": "k_nBj0TzY4iX",
        "outputId": "d6a73659-9717-49d0-f4ae-c344bbc8b51c"
      },
      "execution_count": null,
      "outputs": [
        {
          "output_type": "display_data",
          "data": {
            "text/plain": [
              "<Figure size 432x288 with 2 Axes>"
            ],
            "image/png": "[encoded data removed]"
          },
          "metadata": {
            "needs_background": "light"
          }
        }
      ]
    },
    {
      "cell_type": "code",
      "source": [
        "xTest1 = model1.predict(test_set1)\n",
        "yTest1 = test_set.classes"
      ],
      "metadata": {
        "colab": {
          "base_uri": "https://localhost:8080/"
        },
        "id": "Ze1xOXm_Y4sB",
        "outputId": "e59b4424-4b8c-4821-bce2-fb0843092855"
      },
      "execution_count": null,
      "outputs": [
        {
          "output_type": "stream",
          "name": "stderr",
          "text": [
            "/usr/local/lib/python3.8/dist-packages/keras/preprocessing/image.py:1663: UserWarning: This ImageDataGenerator specifies `featurewise_center`, but it hasn't been fit on any training data. Fit it first by calling `.fit(numpy_data)`.\n",
            "  warnings.warn('This ImageDataGenerator specifies '\n",
            "/usr/local/lib/python3.8/dist-packages/keras/preprocessing/image.py:1682: UserWarning: This ImageDataGenerator specifies `zca_whitening`, but it hasn't been fit on any training data. Fit it first by calling `.fit(numpy_data)`.\n",
            "  warnings.warn('This ImageDataGenerator specifies '\n"
          ]
        },
        {
          "output_type": "stream",
          "name": "stdout",
          "text": [
            "209/209 [==============================] - 101s 478ms/step\n"
          ]
        }
      ]
    },
    {
      "cell_type": "code",
      "source": [
        "print(classification_report(yTest1, xTest1 > 0.5))"
      ],
      "metadata": {
        "colab": {
          "base_uri": "https://localhost:8080/"
        },
        "id": "alyve8zmZHzu",
        "outputId": "6e73cf18-aa98-4970-b40e-3fba89d31271"
      },
      "execution_count": null,
      "outputs": [
        {
          "output_type": "stream",
          "name": "stdout",
          "text": [
            "              precision    recall  f1-score   support\n",
            "\n",
            "           0       0.51      0.90      0.65     10000\n",
            "           1       0.55      0.11      0.19     10000\n",
            "\n",
            "    accuracy                           0.51     20000\n",
            "   macro avg       0.53      0.51      0.42     20000\n",
            "weighted avg       0.53      0.51      0.42     20000\n",
            "\n"
          ]
        }
      ]
    },
    {
      "cell_type": "code",
      "source": [
        "cm = confusion_matrix(yTest1, xTest1.round())\n",
        "disp = ConfusionMatrixDisplay(confusion_matrix=cm)\n",
        "disp.plot()\n",
        "plt.show()"
      ],
      "metadata": {
        "colab": {
          "base_uri": "https://localhost:8080/",
          "height": 282
        },
        "id": "whgmi2XdZJcH",
        "outputId": "12312b7e-cecd-4bcb-b110-baafc4b699a8"
      },
      "execution_count": null,
      "outputs": [
        {
          "output_type": "display_data",
          "data": {
            "text/plain": [
              "<Figure size 432x288 with 2 Axes>"
            ],
            "image/png": "[encoded data removed]"
          },
          "metadata": {
            "needs_background": "light"
          }
        }
      ]
    },
    {
      "cell_type": "markdown",
      "source": [
        "## **1.2 CNN densenet model with pretrained weights and set learning rate**"
      ],
      "metadata": {
        "id": "CYfAu5zTV8Dp"
      }
    },
    {
      "cell_type": "code",
      "source": [
        "import numpy as np # linear algebra\n",
        "import matplotlib.pyplot as plt\n",
        "import tensorflow as tf\n",
        "from tensorflow.keras.models import Sequential\n",
        "from tensorflow.keras.layers import Dense, Dropout, Activation, Flatten, Conv2D, MaxPooling2D, GlobalAveragePooling2D\n",
        "from tensorflow.keras.applications import DenseNet121\n",
        "from tensorflow.keras.preprocessing.image import ImageDataGenerator\n",
        "from sklearn.metrics import classification_report, confusion_matrix, ConfusionMatrixDisplay\n",
        "\n",
        "path = \"real_vs_fake/real-vs-fake\"\n",
        "\n",
        "datagen2 = ImageDataGenerator(rescale=1./255, zca_whitening = True, horizontal_flip=True)\n",
        "training_set2 = datagen2.flow_from_directory(path + '/train',\n",
        "                                           class_mode='binary',\n",
        "                                           shuffle = True,\n",
        "                                           target_size=(32,32),\n",
        "                                           batch_size = 96\n",
        "                                          )\n",
        "test_set2 = datagen2.flow_from_directory(path + '/test',\n",
        "                                       class_mode='binary',\n",
        "                                       shuffle = False,\n",
        "                                       target_size=(32,32),\n",
        "                                       batch_size = 96\n",
        "                                       )\n",
        "validation_set2 = datagen2.flow_from_directory(path + '/valid',\n",
        "                                        class_mode='binary',\n",
        "                                        shuffle = False,\n",
        "                                        target_size=(32,32),\n",
        "                                        batch_size = 96\n",
        "                                            )"
      ],
      "metadata": {
        "colab": {
          "base_uri": "https://localhost:8080/"
        },
        "id": "lxiLt9GJWARh",
        "outputId": "8aa132a0-060c-493a-e165-7746f32240a1"
      },
      "execution_count": 10,
      "outputs": [
        {
          "output_type": "stream",
          "name": "stderr",
          "text": [
            "/usr/local/lib/python3.8/dist-packages/keras/preprocessing/image.py:1285: UserWarning: This ImageDataGenerator specifies `zca_whitening`, which overrides setting of `featurewise_center`.\n",
            "  warnings.warn('This ImageDataGenerator specifies '\n"
          ]
        },
        {
          "output_type": "stream",
          "name": "stdout",
          "text": [
            "Found 100000 images belonging to 2 classes.\n",
            "Found 20000 images belonging to 2 classes.\n",
            "Found 20000 images belonging to 2 classes.\n"
          ]
        }
      ]
    },
    {
      "cell_type": "code",
      "source": [
        "# DenseNet121 parameter weights lets you use pre-trained weights from the imagenet dataset\n",
        "from keras.optimizers import Adam\n",
        "densenet2 = DenseNet121(weights='imagenet', include_top = False, input_shape=(32,32,3))\n",
        "optimizer = Adam(learning_rate=0.003)\n",
        "\n",
        "\n",
        "model2 = Sequential([densenet2,\n",
        "                    GlobalAveragePooling2D(),\n",
        "                    Dense(1, activation='sigmoid')])\n",
        "model2.compile(loss='binary_crossentropy',optimizer=optimizer, metrics=['accuracy'])\n",
        "model2.summary()"
      ],
      "metadata": {
        "colab": {
          "base_uri": "https://localhost:8080/"
        },
        "id": "KpE-Tzm2WNNE",
        "outputId": "2ccb8c7e-5906-46e0-f2a3-e75234790ac0"
      },
      "execution_count": 13,
      "outputs": [
        {
          "output_type": "stream",
          "name": "stdout",
          "text": [
            "Model: \"sequential_2\"\n",
            "_________________________________________________________________\n",
            " Layer (type)                Output Shape              Param #   \n",
            "=================================================================\n",
            " densenet121 (Functional)    (None, 1, 1, 1024)        7037504   \n",
            "                                                                 \n",
            " global_average_pooling2d_2   (None, 1024)             0         \n",
            " (GlobalAveragePooling2D)                                        \n",
            "                                                                 \n",
            " dense_2 (Dense)             (None, 1)                 1025      \n",
            "                                                                 \n",
            "=================================================================\n",
            "Total params: 7,038,529\n",
            "Trainable params: 6,954,881\n",
            "Non-trainable params: 83,648\n",
            "_________________________________________________________________\n"
          ]
        }
      ]
    },
    {
      "cell_type": "code",
      "source": [
        "history2 = model2.fit(training_set2,\n",
        "          steps_per_epoch=(100000/100),\n",
        "          validation_data=validation_set2,\n",
        "          validation_steps = (20000/100),\n",
        "          epochs= 5)"
      ],
      "metadata": {
        "colab": {
          "base_uri": "https://localhost:8080/"
        },
        "id": "yBzrAY-0WRXh",
        "outputId": "a24e1f33-e4fb-4618-f530-1b63df1e5e66"
      },
      "execution_count": 16,
      "outputs": [
        {
          "output_type": "stream",
          "name": "stderr",
          "text": [
            "/usr/local/lib/python3.8/dist-packages/keras/preprocessing/image.py:1663: UserWarning: This ImageDataGenerator specifies `featurewise_center`, but it hasn't been fit on any training data. Fit it first by calling `.fit(numpy_data)`.\n",
            "  warnings.warn('This ImageDataGenerator specifies '\n",
            "/usr/local/lib/python3.8/dist-packages/keras/preprocessing/image.py:1682: UserWarning: This ImageDataGenerator specifies `zca_whitening`, but it hasn't been fit on any training data. Fit it first by calling `.fit(numpy_data)`.\n",
            "  warnings.warn('This ImageDataGenerator specifies '\n"
          ]
        },
        {
          "output_type": "stream",
          "name": "stdout",
          "text": [
            "Epoch 1/5\n",
            "1000/1000 [==============================] - 1362s 1s/step - loss: 0.6744 - accuracy: 0.6026 - val_loss: 1.0770 - val_accuracy: 0.5066\n",
            "Epoch 2/5\n",
            "1000/1000 [==============================] - 1391s 1s/step - loss: 0.5997 - accuracy: 0.6886 - val_loss: 1.1163 - val_accuracy: 0.4991\n",
            "Epoch 3/5\n",
            "1000/1000 [==============================] - 1429s 1s/step - loss: 0.5557 - accuracy: 0.7211 - val_loss: 0.8942 - val_accuracy: 0.4812\n",
            "Epoch 4/5\n",
            "1000/1000 [==============================] - 1435s 1s/step - loss: 0.5753 - accuracy: 0.7081 - val_loss: 1.3545 - val_accuracy: 0.5491\n",
            "Epoch 5/5\n",
            "1000/1000 [==============================] - 1449s 1s/step - loss: 0.5200 - accuracy: 0.7419 - val_loss: 1.0324 - val_accuracy: 0.5681\n"
          ]
        }
      ]
    },
    {
      "cell_type": "code",
      "source": [
        "fig, (ax1, ax2) = plt.subplots(1, 2)\n",
        "ax1.plot(history2.history[\"accuracy\"])\n",
        "ax1.plot(history2.history[\"val_accuracy\"])\n",
        "ax1.title.set_text(\"Model Accuracy\")\n",
        "ax1.set_ylabel(\"Accuracy\")\n",
        "ax1.set_xlabel(\"Epoch\")\n",
        "ax1.legend([\"Train\", \"Valid\"])\n",
        "\n",
        "ax2.plot(history2.history[\"loss\"])\n",
        "ax2.plot(history2.history[\"val_loss\"])\n",
        "ax2.title.set_text(\"Model loss\")\n",
        "ax2.set_ylabel(\"Loss\")\n",
        "ax2.set_xlabel(\"Epoch\")\n",
        "ax2.legend([\"Train\", \"Valid\"])\n",
        "plt.tight_layout()\n",
        "plt.show()"
      ],
      "metadata": {
        "colab": {
          "base_uri": "https://localhost:8080/",
          "height": 297
        },
        "id": "NKnLSuDyWT7x",
        "outputId": "c5c1a4e9-7617-423c-943a-00f75616582f"
      },
      "execution_count": 18,
      "outputs": [
        {
          "output_type": "display_data",
          "data": {
            "text/plain": [
              "<Figure size 432x288 with 2 Axes>"
            ],
            "image/png": "[encoded data removed]"
          },
          "metadata": {
            "needs_background": "light"
          }
        }
      ]
    },
    {
      "cell_type": "code",
      "source": [
        "xTest2 = model2.predict(test_set2)\n",
        "yTest2 = test_set2.classes"
      ],
      "metadata": {
        "colab": {
          "base_uri": "https://localhost:8080/"
        },
        "id": "lUVC1MzjWd7o",
        "outputId": "17579036-8a11-4c7c-e23c-5d30dfc02322"
      },
      "execution_count": 20,
      "outputs": [
        {
          "output_type": "stream",
          "name": "stderr",
          "text": [
            "/usr/local/lib/python3.8/dist-packages/keras/preprocessing/image.py:1663: UserWarning: This ImageDataGenerator specifies `featurewise_center`, but it hasn't been fit on any training data. Fit it first by calling `.fit(numpy_data)`.\n",
            "  warnings.warn('This ImageDataGenerator specifies '\n",
            "/usr/local/lib/python3.8/dist-packages/keras/preprocessing/image.py:1682: UserWarning: This ImageDataGenerator specifies `zca_whitening`, but it hasn't been fit on any training data. Fit it first by calling `.fit(numpy_data)`.\n",
            "  warnings.warn('This ImageDataGenerator specifies '\n"
          ]
        },
        {
          "output_type": "stream",
          "name": "stdout",
          "text": [
            "209/209 [==============================] - 74s 352ms/step\n"
          ]
        }
      ]
    },
    {
      "cell_type": "code",
      "source": [
        "print(classification_report(yTest2, xTest2 > 0.5))"
      ],
      "metadata": {
        "colab": {
          "base_uri": "https://localhost:8080/"
        },
        "id": "cWPA3kcPWfqq",
        "outputId": "5e85dbc7-953c-4ce0-8c75-7d515f31466d"
      },
      "execution_count": 21,
      "outputs": [
        {
          "output_type": "stream",
          "name": "stdout",
          "text": [
            "              precision    recall  f1-score   support\n",
            "\n",
            "           0       0.87      0.21      0.34     10000\n",
            "           1       0.55      0.97      0.70     10000\n",
            "\n",
            "    accuracy                           0.59     20000\n",
            "   macro avg       0.71      0.59      0.52     20000\n",
            "weighted avg       0.71      0.59      0.52     20000\n",
            "\n"
          ]
        }
      ]
    },
    {
      "cell_type": "code",
      "source": [
        "cm = confusion_matrix(yTest2, xTest2.round())\n",
        "disp = ConfusionMatrixDisplay(confusion_matrix=cm)\n",
        "disp.plot()\n",
        "plt.show()"
      ],
      "metadata": {
        "colab": {
          "base_uri": "https://localhost:8080/",
          "height": 279
        },
        "id": "wpOWPELcWftR",
        "outputId": "3b6f2a1f-d915-47b7-fbd9-14476b67ec86"
      },
      "execution_count": 22,
      "outputs": [
        {
          "output_type": "display_data",
          "data": {
            "text/plain": [
              "<Figure size 432x288 with 2 Axes>"
            ],
            "image/png": "[encoded data removed]"
          },
          "metadata": {
            "needs_background": "light"
          }
        }
      ]
    },
    {
      "cell_type": "markdown",
      "source": [
        "## **1.3 CNN densenet model with default learning rate and pretrained weights**"
      ],
      "metadata": {
        "id": "ZQWCS9XC2vOd"
      }
    },
    {
      "cell_type": "code",
      "source": [
        "from keras.optimizers import Adam\n",
        "densenet3 = DenseNet121(weights='imagenet', include_top = False, input_shape=(32,32,3))\n",
        "optimizer = Adam(learning_rate=0.001)\n",
        "\n",
        "\n",
        "model3 = Sequential([densenet2,\n",
        "                    GlobalAveragePooling2D(),\n",
        "                    Dense(1, activation='sigmoid')])\n",
        "model3.compile(loss='binary_crossentropy',optimizer=optimizer, metrics=['accuracy'])\n",
        "model3.summary()"
      ],
      "metadata": {
        "colab": {
          "base_uri": "https://localhost:8080/"
        },
        "id": "HoRjY_fh2sNO",
        "outputId": "4d98fd93-e7d5-4e32-91fc-81c43f05884f"
      },
      "execution_count": 23,
      "outputs": [
        {
          "output_type": "stream",
          "name": "stdout",
          "text": [
            "Model: \"sequential_3\"\n",
            "_________________________________________________________________\n",
            " Layer (type)                Output Shape              Param #   \n",
            "=================================================================\n",
            " densenet121 (Functional)    (None, 1, 1, 1024)        7037504   \n",
            "                                                                 \n",
            " global_average_pooling2d_3   (None, 1024)             0         \n",
            " (GlobalAveragePooling2D)                                        \n",
            "                                                                 \n",
            " dense_3 (Dense)             (None, 1)                 1025      \n",
            "                                                                 \n",
            "=================================================================\n",
            "Total params: 7,038,529\n",
            "Trainable params: 6,954,881\n",
            "Non-trainable params: 83,648\n",
            "_________________________________________________________________\n"
          ]
        }
      ]
    },
    {
      "cell_type": "code",
      "source": [
        "history3 = model3.fit(training_set2,\n",
        "          steps_per_epoch=(100000/100),\n",
        "          validation_data=validation_set2,\n",
        "          validation_steps = (20000/100),\n",
        "          epochs= 5)"
      ],
      "metadata": {
        "colab": {
          "base_uri": "https://localhost:8080/"
        },
        "id": "532c1--t3Icw",
        "outputId": "31d68013-c88c-48b2-cf17-99da8ba08f10"
      },
      "execution_count": 24,
      "outputs": [
        {
          "output_type": "stream",
          "name": "stderr",
          "text": [
            "/usr/local/lib/python3.8/dist-packages/keras/preprocessing/image.py:1663: UserWarning: This ImageDataGenerator specifies `featurewise_center`, but it hasn't been fit on any training data. Fit it first by calling `.fit(numpy_data)`.\n",
            "  warnings.warn('This ImageDataGenerator specifies '\n",
            "/usr/local/lib/python3.8/dist-packages/keras/preprocessing/image.py:1682: UserWarning: This ImageDataGenerator specifies `zca_whitening`, but it hasn't been fit on any training data. Fit it first by calling `.fit(numpy_data)`.\n",
            "  warnings.warn('This ImageDataGenerator specifies '\n"
          ]
        },
        {
          "output_type": "stream",
          "name": "stdout",
          "text": [
            "Epoch 1/5\n",
            "1000/1000 [==============================] - 1510s 1s/step - loss: 0.4777 - accuracy: 0.7711 - val_loss: 0.4819 - val_accuracy: 0.7706\n",
            "Epoch 2/5\n",
            "1000/1000 [==============================] - 1480s 1s/step - loss: 0.4302 - accuracy: 0.8005 - val_loss: 0.7108 - val_accuracy: 0.6747\n",
            "Epoch 3/5\n",
            "1000/1000 [==============================] - 1423s 1s/step - loss: 0.3922 - accuracy: 0.8237 - val_loss: 0.4057 - val_accuracy: 0.8144\n",
            "Epoch 4/5\n",
            "1000/1000 [==============================] - 1480s 1s/step - loss: 0.3663 - accuracy: 0.8375 - val_loss: 0.3744 - val_accuracy: 0.8320\n",
            "Epoch 5/5\n",
            "1000/1000 [==============================] - 1529s 2s/step - loss: 0.3456 - accuracy: 0.8467 - val_loss: 0.5428 - val_accuracy: 0.7532\n"
          ]
        }
      ]
    },
    {
      "cell_type": "code",
      "source": [
        "fig, (ax1, ax2) = plt.subplots(1, 2)\n",
        "ax1.plot(history3.history[\"accuracy\"])\n",
        "ax1.plot(history3.history[\"val_accuracy\"])\n",
        "ax1.title.set_text(\"Model Accuracy\")\n",
        "ax1.set_ylabel(\"Accuracy\")\n",
        "ax1.set_xlabel(\"Epoch\")\n",
        "ax1.legend([\"Train\", \"Valid\"])\n",
        "\n",
        "ax2.plot(history3.history[\"loss\"])\n",
        "ax2.plot(history3.history[\"val_loss\"])\n",
        "ax2.title.set_text(\"Model loss\")\n",
        "ax2.set_ylabel(\"Loss\")\n",
        "ax2.set_xlabel(\"Epoch\")\n",
        "ax2.legend([\"Train\", \"Valid\"])\n",
        "plt.tight_layout()\n",
        "plt.show()"
      ],
      "metadata": {
        "colab": {
          "base_uri": "https://localhost:8080/",
          "height": 297
        },
        "id": "43Di3bXxXvpt",
        "outputId": "385164f9-1ff6-4d24-f64f-7c279aac37f4"
      },
      "execution_count": 25,
      "outputs": [
        {
          "output_type": "display_data",
          "data": {
            "text/plain": [
              "<Figure size 432x288 with 2 Axes>"
            ],
            "image/png": "[encoded data removed]"
          },
          "metadata": {
            "needs_background": "light"
          }
        }
      ]
    },
    {
      "cell_type": "code",
      "source": [
        "xTest3 = model3.predict(test_set2)\n",
        "yTest3 = test_set2.classes"
      ],
      "metadata": {
        "colab": {
          "base_uri": "https://localhost:8080/"
        },
        "id": "ZDpGl-poX6jL",
        "outputId": "c6912211-e912-4c31-ed64-35a879bb2667"
      },
      "execution_count": 26,
      "outputs": [
        {
          "output_type": "stream",
          "name": "stderr",
          "text": [
            "/usr/local/lib/python3.8/dist-packages/keras/preprocessing/image.py:1663: UserWarning: This ImageDataGenerator specifies `featurewise_center`, but it hasn't been fit on any training data. Fit it first by calling `.fit(numpy_data)`.\n",
            "  warnings.warn('This ImageDataGenerator specifies '\n",
            "/usr/local/lib/python3.8/dist-packages/keras/preprocessing/image.py:1682: UserWarning: This ImageDataGenerator specifies `zca_whitening`, but it hasn't been fit on any training data. Fit it first by calling `.fit(numpy_data)`.\n",
            "  warnings.warn('This ImageDataGenerator specifies '\n"
          ]
        },
        {
          "output_type": "stream",
          "name": "stdout",
          "text": [
            "209/209 [==============================] - 83s 388ms/step\n"
          ]
        }
      ]
    },
    {
      "cell_type": "code",
      "source": [
        "print(classification_report(yTest3, xTest3 > 0.5))"
      ],
      "metadata": {
        "colab": {
          "base_uri": "https://localhost:8080/"
        },
        "id": "yKXmWLhSYFd7",
        "outputId": "734f9177-843a-4d0c-f582-2f985bf94c09"
      },
      "execution_count": 27,
      "outputs": [
        {
          "output_type": "stream",
          "name": "stdout",
          "text": [
            "              precision    recall  f1-score   support\n",
            "\n",
            "           0       0.93      0.58      0.71     10000\n",
            "           1       0.69      0.96      0.80     10000\n",
            "\n",
            "    accuracy                           0.77     20000\n",
            "   macro avg       0.81      0.77      0.76     20000\n",
            "weighted avg       0.81      0.77      0.76     20000\n",
            "\n"
          ]
        }
      ]
    },
    {
      "cell_type": "code",
      "source": [
        "cm = confusion_matrix(yTest3, xTest3.round())\n",
        "disp = ConfusionMatrixDisplay(confusion_matrix=cm)\n",
        "disp.plot()\n",
        "plt.show()"
      ],
      "metadata": {
        "colab": {
          "base_uri": "https://localhost:8080/",
          "height": 279
        },
        "id": "hidO0haMYJkz",
        "outputId": "0bffd83f-50d3-4bf3-ba1b-509d7bc3ca0c"
      },
      "execution_count": 28,
      "outputs": [
        {
          "output_type": "display_data",
          "data": {
            "text/plain": [
              "<Figure size 432x288 with 2 Axes>"
            ],
            "image/png": "[encoded data removed]"
          },
          "metadata": {
            "needs_background": "light"
          }
        }
      ]
    }
  ]
}